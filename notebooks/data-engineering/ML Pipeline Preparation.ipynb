{
 "cells": [
  {
   "cell_type": "markdown",
   "metadata": {},
   "source": [
    "# ML Pipeline Preparation\n",
    "Follow the instructions below to help you create your ML pipeline.\n",
    "### 1. Import libraries and load data from database.\n",
    "- Import Python libraries\n",
    "- Load dataset from database with [`read_sql_table`](https://pandas.pydata.org/pandas-docs/stable/generated/pandas.read_sql_table.html)\n",
    "- Define feature and target variables X and Y"
   ]
  },
  {
   "cell_type": "code",
   "execution_count": 33,
   "metadata": {},
   "outputs": [
    {
     "name": "stderr",
     "output_type": "stream",
     "text": [
      "[nltk_data] Downloading package stopwords to\n",
      "[nltk_data]     C:\\Users\\PC-1\\AppData\\Roaming\\nltk_data...\n",
      "[nltk_data]   Package stopwords is already up-to-date!\n",
      "[nltk_data] Downloading package wordnet to\n",
      "[nltk_data]     C:\\Users\\PC-1\\AppData\\Roaming\\nltk_data...\n",
      "[nltk_data]   Package wordnet is already up-to-date!\n",
      "[nltk_data] Downloading package averaged_perceptron_tagger to\n",
      "[nltk_data]     C:\\Users\\PC-1\\AppData\\Roaming\\nltk_data...\n",
      "[nltk_data]   Package averaged_perceptron_tagger is already up-to-\n",
      "[nltk_data]       date!\n"
     ]
    }
   ],
   "source": [
    "# import libraries\n",
    "# import libraries\n",
    "import pandas as pd\n",
    "import numpy as np\n",
    "from sqlalchemy import create_engine\n",
    "import nltk\n",
    "nltk.download('stopwords')\n",
    "nltk.download('wordnet') # download for lemmatization\n",
    "nltk.download(\"averaged_perceptron_tagger\")\n",
    "from nltk.tokenize import word_tokenize\n",
    "from nltk.corpus import stopwords\n",
    "from nltk.stem.wordnet import WordNetLemmatizer\n",
    "import re\n",
    "import matplotlib.pyplot as plt\n",
    "import pickle\n",
    "\n",
    "from sklearn.metrics import confusion_matrix\n",
    "from sklearn.model_selection import train_test_split\n",
    "from sklearn.ensemble import RandomForestClassifier, AdaBoostClassifier\n",
    "from sklearn.feature_extraction.text import CountVectorizer, TfidfTransformer\n",
    "\n",
    "from sklearn.model_selection import GridSearchCV\n",
    "from sklearn.pipeline import Pipeline, FeatureUnion\n",
    "from sklearn.base import BaseEstimator, TransformerMixin\n",
    "from sklearn.multioutput import MultiOutputClassifier\n",
    "from sklearn.metrics import classification_report, make_scorer, f1_score\n",
    "\n"
   ]
  },
  {
   "cell_type": "code",
   "execution_count": 2,
   "metadata": {},
   "outputs": [],
   "source": [
    "# load data from database\n",
    "engine = create_engine('sqlite:///data/disaster.db')\n"
   ]
  },
  {
   "cell_type": "code",
   "execution_count": 3,
   "outputs": [],
   "source": [
    "sql = \"select * from model_data4\"\n",
    "df = pd.read_sql(sql, con=engine)"
   ],
   "metadata": {
    "collapsed": false
   }
  },
  {
   "cell_type": "code",
   "execution_count": 4,
   "outputs": [
    {
     "data": {
      "text/plain": "       index     id                                            message  \\\n0          0      2  Weather update - a cold front from Cuba that c...   \n1          1      7            Is the Hurricane over or is it not over   \n2          2      8                    Looking for someone but no name   \n3          3      9  UN reports Leogane 80-90 destroyed. Only Hospi...   \n4          4     12  says: west side of Haiti, rest of the country ...   \n...      ...    ...                                                ...   \n26211  26211  30261  The training demonstrated how to enhance micro...   \n26212  26212  30262  A suitable candidate has been selected and OCH...   \n26213  26213  30263  Proshika, operating in Cox's Bazar municipalit...   \n26214  26214  30264  Some 2,000 women protesting against the conduc...   \n26215  26215  30265  A radical shift in thinking came about as a re...   \n\n                                                original   genre  related  \\\n0      Un front froid se retrouve sur Cuba ce matin. ...  direct        1   \n1                     Cyclone nan fini osinon li pa fini  direct        1   \n2      Patnm, di Maryani relem pou li banm nouvel li ...  direct        1   \n3      UN reports Leogane 80-90 destroyed. Only Hospi...  direct        1   \n4      facade ouest d Haiti et le reste du pays aujou...  direct        1   \n...                                                  ...     ...      ...   \n26211                                               None    news        0   \n26212                                               None    news        0   \n26213                                               None    news        1   \n26214                                               None    news        1   \n26215                                               None    news        1   \n\n       request  offer  aid_related  medical_help  ...  aid_centers  \\\n0            0      0            0             0  ...            0   \n1            0      0            1             0  ...            0   \n2            0      0            0             0  ...            0   \n3            1      0            1             0  ...            0   \n4            0      0            0             0  ...            0   \n...        ...    ...          ...           ...  ...          ...   \n26211        0      0            0             0  ...            0   \n26212        0      0            0             0  ...            0   \n26213        0      0            0             0  ...            0   \n26214        0      0            1             0  ...            0   \n26215        0      0            0             0  ...            0   \n\n       other_infrastructure  weather_related  floods  storm  fire  earthquake  \\\n0                         0                0       0      0     0           0   \n1                         0                1       0      1     0           0   \n2                         0                0       0      0     0           0   \n3                         0                0       0      0     0           0   \n4                         0                0       0      0     0           0   \n...                     ...              ...     ...    ...   ...         ...   \n26211                     0                0       0      0     0           0   \n26212                     0                0       0      0     0           0   \n26213                     0                0       0      0     0           0   \n26214                     0                0       0      0     0           0   \n26215                     0                0       0      0     0           0   \n\n       cold  other_weather  direct_report  \n0         0              0              0  \n1         0              0              0  \n2         0              0              0  \n3         0              0              0  \n4         0              0              0  \n...     ...            ...            ...  \n26211     0              0              0  \n26212     0              0              0  \n26213     0              0              0  \n26214     0              0              0  \n26215     0              0              0  \n\n[26216 rows x 41 columns]",
      "text/html": "<div>\n<style scoped>\n    .dataframe tbody tr th:only-of-type {\n        vertical-align: middle;\n    }\n\n    .dataframe tbody tr th {\n        vertical-align: top;\n    }\n\n    .dataframe thead th {\n        text-align: right;\n    }\n</style>\n<table border=\"1\" class=\"dataframe\">\n  <thead>\n    <tr style=\"text-align: right;\">\n      <th></th>\n      <th>index</th>\n      <th>id</th>\n      <th>message</th>\n      <th>original</th>\n      <th>genre</th>\n      <th>related</th>\n      <th>request</th>\n      <th>offer</th>\n      <th>aid_related</th>\n      <th>medical_help</th>\n      <th>...</th>\n      <th>aid_centers</th>\n      <th>other_infrastructure</th>\n      <th>weather_related</th>\n      <th>floods</th>\n      <th>storm</th>\n      <th>fire</th>\n      <th>earthquake</th>\n      <th>cold</th>\n      <th>other_weather</th>\n      <th>direct_report</th>\n    </tr>\n  </thead>\n  <tbody>\n    <tr>\n      <th>0</th>\n      <td>0</td>\n      <td>2</td>\n      <td>Weather update - a cold front from Cuba that c...</td>\n      <td>Un front froid se retrouve sur Cuba ce matin. ...</td>\n      <td>direct</td>\n      <td>1</td>\n      <td>0</td>\n      <td>0</td>\n      <td>0</td>\n      <td>0</td>\n      <td>...</td>\n      <td>0</td>\n      <td>0</td>\n      <td>0</td>\n      <td>0</td>\n      <td>0</td>\n      <td>0</td>\n      <td>0</td>\n      <td>0</td>\n      <td>0</td>\n      <td>0</td>\n    </tr>\n    <tr>\n      <th>1</th>\n      <td>1</td>\n      <td>7</td>\n      <td>Is the Hurricane over or is it not over</td>\n      <td>Cyclone nan fini osinon li pa fini</td>\n      <td>direct</td>\n      <td>1</td>\n      <td>0</td>\n      <td>0</td>\n      <td>1</td>\n      <td>0</td>\n      <td>...</td>\n      <td>0</td>\n      <td>0</td>\n      <td>1</td>\n      <td>0</td>\n      <td>1</td>\n      <td>0</td>\n      <td>0</td>\n      <td>0</td>\n      <td>0</td>\n      <td>0</td>\n    </tr>\n    <tr>\n      <th>2</th>\n      <td>2</td>\n      <td>8</td>\n      <td>Looking for someone but no name</td>\n      <td>Patnm, di Maryani relem pou li banm nouvel li ...</td>\n      <td>direct</td>\n      <td>1</td>\n      <td>0</td>\n      <td>0</td>\n      <td>0</td>\n      <td>0</td>\n      <td>...</td>\n      <td>0</td>\n      <td>0</td>\n      <td>0</td>\n      <td>0</td>\n      <td>0</td>\n      <td>0</td>\n      <td>0</td>\n      <td>0</td>\n      <td>0</td>\n      <td>0</td>\n    </tr>\n    <tr>\n      <th>3</th>\n      <td>3</td>\n      <td>9</td>\n      <td>UN reports Leogane 80-90 destroyed. Only Hospi...</td>\n      <td>UN reports Leogane 80-90 destroyed. Only Hospi...</td>\n      <td>direct</td>\n      <td>1</td>\n      <td>1</td>\n      <td>0</td>\n      <td>1</td>\n      <td>0</td>\n      <td>...</td>\n      <td>0</td>\n      <td>0</td>\n      <td>0</td>\n      <td>0</td>\n      <td>0</td>\n      <td>0</td>\n      <td>0</td>\n      <td>0</td>\n      <td>0</td>\n      <td>0</td>\n    </tr>\n    <tr>\n      <th>4</th>\n      <td>4</td>\n      <td>12</td>\n      <td>says: west side of Haiti, rest of the country ...</td>\n      <td>facade ouest d Haiti et le reste du pays aujou...</td>\n      <td>direct</td>\n      <td>1</td>\n      <td>0</td>\n      <td>0</td>\n      <td>0</td>\n      <td>0</td>\n      <td>...</td>\n      <td>0</td>\n      <td>0</td>\n      <td>0</td>\n      <td>0</td>\n      <td>0</td>\n      <td>0</td>\n      <td>0</td>\n      <td>0</td>\n      <td>0</td>\n      <td>0</td>\n    </tr>\n    <tr>\n      <th>...</th>\n      <td>...</td>\n      <td>...</td>\n      <td>...</td>\n      <td>...</td>\n      <td>...</td>\n      <td>...</td>\n      <td>...</td>\n      <td>...</td>\n      <td>...</td>\n      <td>...</td>\n      <td>...</td>\n      <td>...</td>\n      <td>...</td>\n      <td>...</td>\n      <td>...</td>\n      <td>...</td>\n      <td>...</td>\n      <td>...</td>\n      <td>...</td>\n      <td>...</td>\n      <td>...</td>\n    </tr>\n    <tr>\n      <th>26211</th>\n      <td>26211</td>\n      <td>30261</td>\n      <td>The training demonstrated how to enhance micro...</td>\n      <td>None</td>\n      <td>news</td>\n      <td>0</td>\n      <td>0</td>\n      <td>0</td>\n      <td>0</td>\n      <td>0</td>\n      <td>...</td>\n      <td>0</td>\n      <td>0</td>\n      <td>0</td>\n      <td>0</td>\n      <td>0</td>\n      <td>0</td>\n      <td>0</td>\n      <td>0</td>\n      <td>0</td>\n      <td>0</td>\n    </tr>\n    <tr>\n      <th>26212</th>\n      <td>26212</td>\n      <td>30262</td>\n      <td>A suitable candidate has been selected and OCH...</td>\n      <td>None</td>\n      <td>news</td>\n      <td>0</td>\n      <td>0</td>\n      <td>0</td>\n      <td>0</td>\n      <td>0</td>\n      <td>...</td>\n      <td>0</td>\n      <td>0</td>\n      <td>0</td>\n      <td>0</td>\n      <td>0</td>\n      <td>0</td>\n      <td>0</td>\n      <td>0</td>\n      <td>0</td>\n      <td>0</td>\n    </tr>\n    <tr>\n      <th>26213</th>\n      <td>26213</td>\n      <td>30263</td>\n      <td>Proshika, operating in Cox's Bazar municipalit...</td>\n      <td>None</td>\n      <td>news</td>\n      <td>1</td>\n      <td>0</td>\n      <td>0</td>\n      <td>0</td>\n      <td>0</td>\n      <td>...</td>\n      <td>0</td>\n      <td>0</td>\n      <td>0</td>\n      <td>0</td>\n      <td>0</td>\n      <td>0</td>\n      <td>0</td>\n      <td>0</td>\n      <td>0</td>\n      <td>0</td>\n    </tr>\n    <tr>\n      <th>26214</th>\n      <td>26214</td>\n      <td>30264</td>\n      <td>Some 2,000 women protesting against the conduc...</td>\n      <td>None</td>\n      <td>news</td>\n      <td>1</td>\n      <td>0</td>\n      <td>0</td>\n      <td>1</td>\n      <td>0</td>\n      <td>...</td>\n      <td>0</td>\n      <td>0</td>\n      <td>0</td>\n      <td>0</td>\n      <td>0</td>\n      <td>0</td>\n      <td>0</td>\n      <td>0</td>\n      <td>0</td>\n      <td>0</td>\n    </tr>\n    <tr>\n      <th>26215</th>\n      <td>26215</td>\n      <td>30265</td>\n      <td>A radical shift in thinking came about as a re...</td>\n      <td>None</td>\n      <td>news</td>\n      <td>1</td>\n      <td>0</td>\n      <td>0</td>\n      <td>0</td>\n      <td>0</td>\n      <td>...</td>\n      <td>0</td>\n      <td>0</td>\n      <td>0</td>\n      <td>0</td>\n      <td>0</td>\n      <td>0</td>\n      <td>0</td>\n      <td>0</td>\n      <td>0</td>\n      <td>0</td>\n    </tr>\n  </tbody>\n</table>\n<p>26216 rows × 41 columns</p>\n</div>"
     },
     "execution_count": 4,
     "metadata": {},
     "output_type": "execute_result"
    }
   ],
   "source": [
    "df"
   ],
   "metadata": {
    "collapsed": false
   }
  },
  {
   "cell_type": "code",
   "execution_count": 5,
   "outputs": [
    {
     "data": {
      "text/plain": "              index           id       related       request         offer  \\\ncount  26216.000000  26216.00000  26216.000000  26216.000000  26216.000000   \nmean   13107.500000  15224.82133      0.773650      0.170659      0.004501   \nstd     7568.051665   8826.88914      0.435276      0.376218      0.066940   \nmin        0.000000      2.00000      0.000000      0.000000      0.000000   \n25%     6553.750000   7446.75000      1.000000      0.000000      0.000000   \n50%    13107.500000  15662.50000      1.000000      0.000000      0.000000   \n75%    19661.250000  22924.25000      1.000000      0.000000      0.000000   \nmax    26215.000000  30265.00000      2.000000      1.000000      1.000000   \n\n        aid_related  medical_help  medical_products  search_and_rescue  \\\ncount  26216.000000  26216.000000      26216.000000       26216.000000   \nmean       0.414251      0.079493          0.050084           0.027617   \nstd        0.492602      0.270513          0.218122           0.163875   \nmin        0.000000      0.000000          0.000000           0.000000   \n25%        0.000000      0.000000          0.000000           0.000000   \n50%        0.000000      0.000000          0.000000           0.000000   \n75%        1.000000      0.000000          0.000000           0.000000   \nmax        1.000000      1.000000          1.000000           1.000000   \n\n           security  ...   aid_centers  other_infrastructure  weather_related  \\\ncount  26216.000000  ...  26216.000000          26216.000000     26216.000000   \nmean       0.017966  ...      0.011787              0.043904         0.278341   \nstd        0.132831  ...      0.107927              0.204887         0.448191   \nmin        0.000000  ...      0.000000              0.000000         0.000000   \n25%        0.000000  ...      0.000000              0.000000         0.000000   \n50%        0.000000  ...      0.000000              0.000000         0.000000   \n75%        0.000000  ...      0.000000              0.000000         1.000000   \nmax        1.000000  ...      1.000000              1.000000         1.000000   \n\n             floods         storm          fire    earthquake          cold  \\\ncount  26216.000000  26216.000000  26216.000000  26216.000000  26216.000000   \nmean       0.082202      0.093187      0.010757      0.093645      0.020217   \nstd        0.274677      0.290700      0.103158      0.291340      0.140743   \nmin        0.000000      0.000000      0.000000      0.000000      0.000000   \n25%        0.000000      0.000000      0.000000      0.000000      0.000000   \n50%        0.000000      0.000000      0.000000      0.000000      0.000000   \n75%        0.000000      0.000000      0.000000      0.000000      0.000000   \nmax        1.000000      1.000000      1.000000      1.000000      1.000000   \n\n       other_weather  direct_report  \ncount   26216.000000   26216.000000  \nmean        0.052487       0.193584  \nstd         0.223011       0.395114  \nmin         0.000000       0.000000  \n25%         0.000000       0.000000  \n50%         0.000000       0.000000  \n75%         0.000000       0.000000  \nmax         1.000000       1.000000  \n\n[8 rows x 38 columns]",
      "text/html": "<div>\n<style scoped>\n    .dataframe tbody tr th:only-of-type {\n        vertical-align: middle;\n    }\n\n    .dataframe tbody tr th {\n        vertical-align: top;\n    }\n\n    .dataframe thead th {\n        text-align: right;\n    }\n</style>\n<table border=\"1\" class=\"dataframe\">\n  <thead>\n    <tr style=\"text-align: right;\">\n      <th></th>\n      <th>index</th>\n      <th>id</th>\n      <th>related</th>\n      <th>request</th>\n      <th>offer</th>\n      <th>aid_related</th>\n      <th>medical_help</th>\n      <th>medical_products</th>\n      <th>search_and_rescue</th>\n      <th>security</th>\n      <th>...</th>\n      <th>aid_centers</th>\n      <th>other_infrastructure</th>\n      <th>weather_related</th>\n      <th>floods</th>\n      <th>storm</th>\n      <th>fire</th>\n      <th>earthquake</th>\n      <th>cold</th>\n      <th>other_weather</th>\n      <th>direct_report</th>\n    </tr>\n  </thead>\n  <tbody>\n    <tr>\n      <th>count</th>\n      <td>26216.000000</td>\n      <td>26216.00000</td>\n      <td>26216.000000</td>\n      <td>26216.000000</td>\n      <td>26216.000000</td>\n      <td>26216.000000</td>\n      <td>26216.000000</td>\n      <td>26216.000000</td>\n      <td>26216.000000</td>\n      <td>26216.000000</td>\n      <td>...</td>\n      <td>26216.000000</td>\n      <td>26216.000000</td>\n      <td>26216.000000</td>\n      <td>26216.000000</td>\n      <td>26216.000000</td>\n      <td>26216.000000</td>\n      <td>26216.000000</td>\n      <td>26216.000000</td>\n      <td>26216.000000</td>\n      <td>26216.000000</td>\n    </tr>\n    <tr>\n      <th>mean</th>\n      <td>13107.500000</td>\n      <td>15224.82133</td>\n      <td>0.773650</td>\n      <td>0.170659</td>\n      <td>0.004501</td>\n      <td>0.414251</td>\n      <td>0.079493</td>\n      <td>0.050084</td>\n      <td>0.027617</td>\n      <td>0.017966</td>\n      <td>...</td>\n      <td>0.011787</td>\n      <td>0.043904</td>\n      <td>0.278341</td>\n      <td>0.082202</td>\n      <td>0.093187</td>\n      <td>0.010757</td>\n      <td>0.093645</td>\n      <td>0.020217</td>\n      <td>0.052487</td>\n      <td>0.193584</td>\n    </tr>\n    <tr>\n      <th>std</th>\n      <td>7568.051665</td>\n      <td>8826.88914</td>\n      <td>0.435276</td>\n      <td>0.376218</td>\n      <td>0.066940</td>\n      <td>0.492602</td>\n      <td>0.270513</td>\n      <td>0.218122</td>\n      <td>0.163875</td>\n      <td>0.132831</td>\n      <td>...</td>\n      <td>0.107927</td>\n      <td>0.204887</td>\n      <td>0.448191</td>\n      <td>0.274677</td>\n      <td>0.290700</td>\n      <td>0.103158</td>\n      <td>0.291340</td>\n      <td>0.140743</td>\n      <td>0.223011</td>\n      <td>0.395114</td>\n    </tr>\n    <tr>\n      <th>min</th>\n      <td>0.000000</td>\n      <td>2.00000</td>\n      <td>0.000000</td>\n      <td>0.000000</td>\n      <td>0.000000</td>\n      <td>0.000000</td>\n      <td>0.000000</td>\n      <td>0.000000</td>\n      <td>0.000000</td>\n      <td>0.000000</td>\n      <td>...</td>\n      <td>0.000000</td>\n      <td>0.000000</td>\n      <td>0.000000</td>\n      <td>0.000000</td>\n      <td>0.000000</td>\n      <td>0.000000</td>\n      <td>0.000000</td>\n      <td>0.000000</td>\n      <td>0.000000</td>\n      <td>0.000000</td>\n    </tr>\n    <tr>\n      <th>25%</th>\n      <td>6553.750000</td>\n      <td>7446.75000</td>\n      <td>1.000000</td>\n      <td>0.000000</td>\n      <td>0.000000</td>\n      <td>0.000000</td>\n      <td>0.000000</td>\n      <td>0.000000</td>\n      <td>0.000000</td>\n      <td>0.000000</td>\n      <td>...</td>\n      <td>0.000000</td>\n      <td>0.000000</td>\n      <td>0.000000</td>\n      <td>0.000000</td>\n      <td>0.000000</td>\n      <td>0.000000</td>\n      <td>0.000000</td>\n      <td>0.000000</td>\n      <td>0.000000</td>\n      <td>0.000000</td>\n    </tr>\n    <tr>\n      <th>50%</th>\n      <td>13107.500000</td>\n      <td>15662.50000</td>\n      <td>1.000000</td>\n      <td>0.000000</td>\n      <td>0.000000</td>\n      <td>0.000000</td>\n      <td>0.000000</td>\n      <td>0.000000</td>\n      <td>0.000000</td>\n      <td>0.000000</td>\n      <td>...</td>\n      <td>0.000000</td>\n      <td>0.000000</td>\n      <td>0.000000</td>\n      <td>0.000000</td>\n      <td>0.000000</td>\n      <td>0.000000</td>\n      <td>0.000000</td>\n      <td>0.000000</td>\n      <td>0.000000</td>\n      <td>0.000000</td>\n    </tr>\n    <tr>\n      <th>75%</th>\n      <td>19661.250000</td>\n      <td>22924.25000</td>\n      <td>1.000000</td>\n      <td>0.000000</td>\n      <td>0.000000</td>\n      <td>1.000000</td>\n      <td>0.000000</td>\n      <td>0.000000</td>\n      <td>0.000000</td>\n      <td>0.000000</td>\n      <td>...</td>\n      <td>0.000000</td>\n      <td>0.000000</td>\n      <td>1.000000</td>\n      <td>0.000000</td>\n      <td>0.000000</td>\n      <td>0.000000</td>\n      <td>0.000000</td>\n      <td>0.000000</td>\n      <td>0.000000</td>\n      <td>0.000000</td>\n    </tr>\n    <tr>\n      <th>max</th>\n      <td>26215.000000</td>\n      <td>30265.00000</td>\n      <td>2.000000</td>\n      <td>1.000000</td>\n      <td>1.000000</td>\n      <td>1.000000</td>\n      <td>1.000000</td>\n      <td>1.000000</td>\n      <td>1.000000</td>\n      <td>1.000000</td>\n      <td>...</td>\n      <td>1.000000</td>\n      <td>1.000000</td>\n      <td>1.000000</td>\n      <td>1.000000</td>\n      <td>1.000000</td>\n      <td>1.000000</td>\n      <td>1.000000</td>\n      <td>1.000000</td>\n      <td>1.000000</td>\n      <td>1.000000</td>\n    </tr>\n  </tbody>\n</table>\n<p>8 rows × 38 columns</p>\n</div>"
     },
     "execution_count": 5,
     "metadata": {},
     "output_type": "execute_result"
    }
   ],
   "source": [
    "# Have a quick overview on the dataset\n",
    "df.describe()"
   ],
   "metadata": {
    "collapsed": false
   }
  },
  {
   "cell_type": "code",
   "execution_count": 6,
   "outputs": [
    {
     "data": {
      "text/plain": "Text(0.5, 0, 'Number of messages')"
     },
     "execution_count": 6,
     "metadata": {},
     "output_type": "execute_result"
    },
    {
     "data": {
      "text/plain": "<Figure size 2000x1000 with 1 Axes>",
      "image/png": "[encoded data removed]"
     },
     "metadata": {},
     "output_type": "display_data"
    }
   ],
   "source": [
    "cats=df.columns[5:]\n",
    "plt.figure(figsize=(20,10))\n",
    "df[cats].sum().sort_values().plot.barh()\n",
    "plt.title('The 36 categories that must be classified')\n",
    "plt.ylabel('Categories')\n",
    "plt.xlabel('Number of messages')\n"
   ],
   "metadata": {
    "collapsed": false
   }
  },
  {
   "cell_type": "code",
   "execution_count": 7,
   "outputs": [],
   "source": [
    "# We remove 'child_alone' column as it has no values.\n",
    "df = df.drop(['child_alone', 'offer', 'tools'], axis = 1)\n"
   ],
   "metadata": {
    "collapsed": false
   }
  },
  {
   "cell_type": "code",
   "execution_count": 8,
   "outputs": [
    {
     "data": {
      "text/plain": "         index     id  message  original  genre  request  aid_related  \\\nrelated                                                                 \n0         6122   6122     6122      3395   6122     6122         6122   \n1        19906  19906    19906      6643  19906    19906        19906   \n2          188    188      188       132    188      188          188   \n\n         medical_help  medical_products  search_and_rescue  ...  aid_centers  \\\nrelated                                                     ...                \n0                6122              6122               6122  ...         6122   \n1               19906             19906              19906  ...        19906   \n2                 188               188                188  ...          188   \n\n         other_infrastructure  weather_related  floods  storm   fire  \\\nrelated                                                                \n0                        6122             6122    6122   6122   6122   \n1                       19906            19906   19906  19906  19906   \n2                         188              188     188    188    188   \n\n         earthquake   cold  other_weather  direct_report  \nrelated                                                   \n0              6122   6122           6122           6122  \n1             19906  19906          19906          19906  \n2               188    188            188            188  \n\n[3 rows x 37 columns]",
      "text/html": "<div>\n<style scoped>\n    .dataframe tbody tr th:only-of-type {\n        vertical-align: middle;\n    }\n\n    .dataframe tbody tr th {\n        vertical-align: top;\n    }\n\n    .dataframe thead th {\n        text-align: right;\n    }\n</style>\n<table border=\"1\" class=\"dataframe\">\n  <thead>\n    <tr style=\"text-align: right;\">\n      <th></th>\n      <th>index</th>\n      <th>id</th>\n      <th>message</th>\n      <th>original</th>\n      <th>genre</th>\n      <th>request</th>\n      <th>aid_related</th>\n      <th>medical_help</th>\n      <th>medical_products</th>\n      <th>search_and_rescue</th>\n      <th>...</th>\n      <th>aid_centers</th>\n      <th>other_infrastructure</th>\n      <th>weather_related</th>\n      <th>floods</th>\n      <th>storm</th>\n      <th>fire</th>\n      <th>earthquake</th>\n      <th>cold</th>\n      <th>other_weather</th>\n      <th>direct_report</th>\n    </tr>\n    <tr>\n      <th>related</th>\n      <th></th>\n      <th></th>\n      <th></th>\n      <th></th>\n      <th></th>\n      <th></th>\n      <th></th>\n      <th></th>\n      <th></th>\n      <th></th>\n      <th></th>\n      <th></th>\n      <th></th>\n      <th></th>\n      <th></th>\n      <th></th>\n      <th></th>\n      <th></th>\n      <th></th>\n      <th></th>\n      <th></th>\n    </tr>\n  </thead>\n  <tbody>\n    <tr>\n      <th>0</th>\n      <td>6122</td>\n      <td>6122</td>\n      <td>6122</td>\n      <td>3395</td>\n      <td>6122</td>\n      <td>6122</td>\n      <td>6122</td>\n      <td>6122</td>\n      <td>6122</td>\n      <td>6122</td>\n      <td>...</td>\n      <td>6122</td>\n      <td>6122</td>\n      <td>6122</td>\n      <td>6122</td>\n      <td>6122</td>\n      <td>6122</td>\n      <td>6122</td>\n      <td>6122</td>\n      <td>6122</td>\n      <td>6122</td>\n    </tr>\n    <tr>\n      <th>1</th>\n      <td>19906</td>\n      <td>19906</td>\n      <td>19906</td>\n      <td>6643</td>\n      <td>19906</td>\n      <td>19906</td>\n      <td>19906</td>\n      <td>19906</td>\n      <td>19906</td>\n      <td>19906</td>\n      <td>...</td>\n      <td>19906</td>\n      <td>19906</td>\n      <td>19906</td>\n      <td>19906</td>\n      <td>19906</td>\n      <td>19906</td>\n      <td>19906</td>\n      <td>19906</td>\n      <td>19906</td>\n      <td>19906</td>\n    </tr>\n    <tr>\n      <th>2</th>\n      <td>188</td>\n      <td>188</td>\n      <td>188</td>\n      <td>132</td>\n      <td>188</td>\n      <td>188</td>\n      <td>188</td>\n      <td>188</td>\n      <td>188</td>\n      <td>188</td>\n      <td>...</td>\n      <td>188</td>\n      <td>188</td>\n      <td>188</td>\n      <td>188</td>\n      <td>188</td>\n      <td>188</td>\n      <td>188</td>\n      <td>188</td>\n      <td>188</td>\n      <td>188</td>\n    </tr>\n  </tbody>\n</table>\n<p>3 rows × 37 columns</p>\n</div>"
     },
     "execution_count": 8,
     "metadata": {},
     "output_type": "execute_result"
    }
   ],
   "source": [
    "# Maximum value for 'related' column is '2'. Let us investigate further.\n",
    "df.groupby('related').count()\n"
   ],
   "metadata": {
    "collapsed": false
   }
  },
  {
   "cell_type": "code",
   "execution_count": 9,
   "outputs": [],
   "source": [
    "# Maximum value for 'related' column is '2'. Fix by replacing 2 by 1 for now. We can update later.\n",
    "df['related'] = df['related'].map(lambda x: 1 if x==2 else x)\n"
   ],
   "metadata": {
    "collapsed": false
   }
  },
  {
   "cell_type": "code",
   "execution_count": 10,
   "outputs": [],
   "source": [
    "X = df[[\"message\", \"genre\"]]\n",
    "Y = df.iloc[:,5:]\n"
   ],
   "metadata": {
    "collapsed": false
   }
  },
  {
   "cell_type": "code",
   "execution_count": 11,
   "outputs": [
    {
     "data": {
      "text/plain": "                                                 message   genre\n0      Weather update - a cold front from Cuba that c...  direct\n1                Is the Hurricane over or is it not over  direct\n2                        Looking for someone but no name  direct\n3      UN reports Leogane 80-90 destroyed. Only Hospi...  direct\n4      says: west side of Haiti, rest of the country ...  direct\n...                                                  ...     ...\n26211  The training demonstrated how to enhance micro...    news\n26212  A suitable candidate has been selected and OCH...    news\n26213  Proshika, operating in Cox's Bazar municipalit...    news\n26214  Some 2,000 women protesting against the conduc...    news\n26215  A radical shift in thinking came about as a re...    news\n\n[26216 rows x 2 columns]",
      "text/html": "<div>\n<style scoped>\n    .dataframe tbody tr th:only-of-type {\n        vertical-align: middle;\n    }\n\n    .dataframe tbody tr th {\n        vertical-align: top;\n    }\n\n    .dataframe thead th {\n        text-align: right;\n    }\n</style>\n<table border=\"1\" class=\"dataframe\">\n  <thead>\n    <tr style=\"text-align: right;\">\n      <th></th>\n      <th>message</th>\n      <th>genre</th>\n    </tr>\n  </thead>\n  <tbody>\n    <tr>\n      <th>0</th>\n      <td>Weather update - a cold front from Cuba that c...</td>\n      <td>direct</td>\n    </tr>\n    <tr>\n      <th>1</th>\n      <td>Is the Hurricane over or is it not over</td>\n      <td>direct</td>\n    </tr>\n    <tr>\n      <th>2</th>\n      <td>Looking for someone but no name</td>\n      <td>direct</td>\n    </tr>\n    <tr>\n      <th>3</th>\n      <td>UN reports Leogane 80-90 destroyed. Only Hospi...</td>\n      <td>direct</td>\n    </tr>\n    <tr>\n      <th>4</th>\n      <td>says: west side of Haiti, rest of the country ...</td>\n      <td>direct</td>\n    </tr>\n    <tr>\n      <th>...</th>\n      <td>...</td>\n      <td>...</td>\n    </tr>\n    <tr>\n      <th>26211</th>\n      <td>The training demonstrated how to enhance micro...</td>\n      <td>news</td>\n    </tr>\n    <tr>\n      <th>26212</th>\n      <td>A suitable candidate has been selected and OCH...</td>\n      <td>news</td>\n    </tr>\n    <tr>\n      <th>26213</th>\n      <td>Proshika, operating in Cox's Bazar municipalit...</td>\n      <td>news</td>\n    </tr>\n    <tr>\n      <th>26214</th>\n      <td>Some 2,000 women protesting against the conduc...</td>\n      <td>news</td>\n    </tr>\n    <tr>\n      <th>26215</th>\n      <td>A radical shift in thinking came about as a re...</td>\n      <td>news</td>\n    </tr>\n  </tbody>\n</table>\n<p>26216 rows × 2 columns</p>\n</div>"
     },
     "execution_count": 11,
     "metadata": {},
     "output_type": "execute_result"
    }
   ],
   "source": [
    "X\n"
   ],
   "metadata": {
    "collapsed": false
   }
  },
  {
   "cell_type": "code",
   "execution_count": 12,
   "outputs": [
    {
     "data": {
      "text/plain": "       related  request  aid_related  medical_help  medical_products  \\\n0            1        0            0             0                 0   \n1            1        0            1             0                 0   \n2            1        0            0             0                 0   \n3            1        1            1             0                 1   \n4            1        0            0             0                 0   \n...        ...      ...          ...           ...               ...   \n26211        0        0            0             0                 0   \n26212        0        0            0             0                 0   \n26213        1        0            0             0                 0   \n26214        1        0            1             0                 0   \n26215        1        0            0             0                 0   \n\n       search_and_rescue  security  military  water  food  ...  aid_centers  \\\n0                      0         0         0      0     0  ...            0   \n1                      0         0         0      0     0  ...            0   \n2                      0         0         0      0     0  ...            0   \n3                      0         0         0      0     0  ...            0   \n4                      0         0         0      0     0  ...            0   \n...                  ...       ...       ...    ...   ...  ...          ...   \n26211                  0         0         0      0     0  ...            0   \n26212                  0         0         0      0     0  ...            0   \n26213                  0         0         0      0     0  ...            0   \n26214                  0         0         1      0     0  ...            0   \n26215                  0         0         0      0     0  ...            0   \n\n       other_infrastructure  weather_related  floods  storm  fire  earthquake  \\\n0                         0                0       0      0     0           0   \n1                         0                1       0      1     0           0   \n2                         0                0       0      0     0           0   \n3                         0                0       0      0     0           0   \n4                         0                0       0      0     0           0   \n...                     ...              ...     ...    ...   ...         ...   \n26211                     0                0       0      0     0           0   \n26212                     0                0       0      0     0           0   \n26213                     0                0       0      0     0           0   \n26214                     0                0       0      0     0           0   \n26215                     0                0       0      0     0           0   \n\n       cold  other_weather  direct_report  \n0         0              0              0  \n1         0              0              0  \n2         0              0              0  \n3         0              0              0  \n4         0              0              0  \n...     ...            ...            ...  \n26211     0              0              0  \n26212     0              0              0  \n26213     0              0              0  \n26214     0              0              0  \n26215     0              0              0  \n\n[26216 rows x 33 columns]",
      "text/html": "<div>\n<style scoped>\n    .dataframe tbody tr th:only-of-type {\n        vertical-align: middle;\n    }\n\n    .dataframe tbody tr th {\n        vertical-align: top;\n    }\n\n    .dataframe thead th {\n        text-align: right;\n    }\n</style>\n<table border=\"1\" class=\"dataframe\">\n  <thead>\n    <tr style=\"text-align: right;\">\n      <th></th>\n      <th>related</th>\n      <th>request</th>\n      <th>aid_related</th>\n      <th>medical_help</th>\n      <th>medical_products</th>\n      <th>search_and_rescue</th>\n      <th>security</th>\n      <th>military</th>\n      <th>water</th>\n      <th>food</th>\n      <th>...</th>\n      <th>aid_centers</th>\n      <th>other_infrastructure</th>\n      <th>weather_related</th>\n      <th>floods</th>\n      <th>storm</th>\n      <th>fire</th>\n      <th>earthquake</th>\n      <th>cold</th>\n      <th>other_weather</th>\n      <th>direct_report</th>\n    </tr>\n  </thead>\n  <tbody>\n    <tr>\n      <th>0</th>\n      <td>1</td>\n      <td>0</td>\n      <td>0</td>\n      <td>0</td>\n      <td>0</td>\n      <td>0</td>\n      <td>0</td>\n      <td>0</td>\n      <td>0</td>\n      <td>0</td>\n      <td>...</td>\n      <td>0</td>\n      <td>0</td>\n      <td>0</td>\n      <td>0</td>\n      <td>0</td>\n      <td>0</td>\n      <td>0</td>\n      <td>0</td>\n      <td>0</td>\n      <td>0</td>\n    </tr>\n    <tr>\n      <th>1</th>\n      <td>1</td>\n      <td>0</td>\n      <td>1</td>\n      <td>0</td>\n      <td>0</td>\n      <td>0</td>\n      <td>0</td>\n      <td>0</td>\n      <td>0</td>\n      <td>0</td>\n      <td>...</td>\n      <td>0</td>\n      <td>0</td>\n      <td>1</td>\n      <td>0</td>\n      <td>1</td>\n      <td>0</td>\n      <td>0</td>\n      <td>0</td>\n      <td>0</td>\n      <td>0</td>\n    </tr>\n    <tr>\n      <th>2</th>\n      <td>1</td>\n      <td>0</td>\n      <td>0</td>\n      <td>0</td>\n      <td>0</td>\n      <td>0</td>\n      <td>0</td>\n      <td>0</td>\n      <td>0</td>\n      <td>0</td>\n      <td>...</td>\n      <td>0</td>\n      <td>0</td>\n      <td>0</td>\n      <td>0</td>\n      <td>0</td>\n      <td>0</td>\n      <td>0</td>\n      <td>0</td>\n      <td>0</td>\n      <td>0</td>\n    </tr>\n    <tr>\n      <th>3</th>\n      <td>1</td>\n      <td>1</td>\n      <td>1</td>\n      <td>0</td>\n      <td>1</td>\n      <td>0</td>\n      <td>0</td>\n      <td>0</td>\n      <td>0</td>\n      <td>0</td>\n      <td>...</td>\n      <td>0</td>\n      <td>0</td>\n      <td>0</td>\n      <td>0</td>\n      <td>0</td>\n      <td>0</td>\n      <td>0</td>\n      <td>0</td>\n      <td>0</td>\n      <td>0</td>\n    </tr>\n    <tr>\n      <th>4</th>\n      <td>1</td>\n      <td>0</td>\n      <td>0</td>\n      <td>0</td>\n      <td>0</td>\n      <td>0</td>\n      <td>0</td>\n      <td>0</td>\n      <td>0</td>\n      <td>0</td>\n      <td>...</td>\n      <td>0</td>\n      <td>0</td>\n      <td>0</td>\n      <td>0</td>\n      <td>0</td>\n      <td>0</td>\n      <td>0</td>\n      <td>0</td>\n      <td>0</td>\n      <td>0</td>\n    </tr>\n    <tr>\n      <th>...</th>\n      <td>...</td>\n      <td>...</td>\n      <td>...</td>\n      <td>...</td>\n      <td>...</td>\n      <td>...</td>\n      <td>...</td>\n      <td>...</td>\n      <td>...</td>\n      <td>...</td>\n      <td>...</td>\n      <td>...</td>\n      <td>...</td>\n      <td>...</td>\n      <td>...</td>\n      <td>...</td>\n      <td>...</td>\n      <td>...</td>\n      <td>...</td>\n      <td>...</td>\n      <td>...</td>\n    </tr>\n    <tr>\n      <th>26211</th>\n      <td>0</td>\n      <td>0</td>\n      <td>0</td>\n      <td>0</td>\n      <td>0</td>\n      <td>0</td>\n      <td>0</td>\n      <td>0</td>\n      <td>0</td>\n      <td>0</td>\n      <td>...</td>\n      <td>0</td>\n      <td>0</td>\n      <td>0</td>\n      <td>0</td>\n      <td>0</td>\n      <td>0</td>\n      <td>0</td>\n      <td>0</td>\n      <td>0</td>\n      <td>0</td>\n    </tr>\n    <tr>\n      <th>26212</th>\n      <td>0</td>\n      <td>0</td>\n      <td>0</td>\n      <td>0</td>\n      <td>0</td>\n      <td>0</td>\n      <td>0</td>\n      <td>0</td>\n      <td>0</td>\n      <td>0</td>\n      <td>...</td>\n      <td>0</td>\n      <td>0</td>\n      <td>0</td>\n      <td>0</td>\n      <td>0</td>\n      <td>0</td>\n      <td>0</td>\n      <td>0</td>\n      <td>0</td>\n      <td>0</td>\n    </tr>\n    <tr>\n      <th>26213</th>\n      <td>1</td>\n      <td>0</td>\n      <td>0</td>\n      <td>0</td>\n      <td>0</td>\n      <td>0</td>\n      <td>0</td>\n      <td>0</td>\n      <td>0</td>\n      <td>0</td>\n      <td>...</td>\n      <td>0</td>\n      <td>0</td>\n      <td>0</td>\n      <td>0</td>\n      <td>0</td>\n      <td>0</td>\n      <td>0</td>\n      <td>0</td>\n      <td>0</td>\n      <td>0</td>\n    </tr>\n    <tr>\n      <th>26214</th>\n      <td>1</td>\n      <td>0</td>\n      <td>1</td>\n      <td>0</td>\n      <td>0</td>\n      <td>0</td>\n      <td>0</td>\n      <td>1</td>\n      <td>0</td>\n      <td>0</td>\n      <td>...</td>\n      <td>0</td>\n      <td>0</td>\n      <td>0</td>\n      <td>0</td>\n      <td>0</td>\n      <td>0</td>\n      <td>0</td>\n      <td>0</td>\n      <td>0</td>\n      <td>0</td>\n    </tr>\n    <tr>\n      <th>26215</th>\n      <td>1</td>\n      <td>0</td>\n      <td>0</td>\n      <td>0</td>\n      <td>0</td>\n      <td>0</td>\n      <td>0</td>\n      <td>0</td>\n      <td>0</td>\n      <td>0</td>\n      <td>...</td>\n      <td>0</td>\n      <td>0</td>\n      <td>0</td>\n      <td>0</td>\n      <td>0</td>\n      <td>0</td>\n      <td>0</td>\n      <td>0</td>\n      <td>0</td>\n      <td>0</td>\n    </tr>\n  </tbody>\n</table>\n<p>26216 rows × 33 columns</p>\n</div>"
     },
     "execution_count": 12,
     "metadata": {},
     "output_type": "execute_result"
    }
   ],
   "source": [
    "Y\n"
   ],
   "metadata": {
    "collapsed": false
   }
  },
  {
   "cell_type": "code",
   "execution_count": 13,
   "outputs": [
    {
     "data": {
      "text/plain": "related                   0.766478\nrequest                   0.170659\naid_related               0.414251\nmedical_help              0.079493\nmedical_products          0.050084\nsearch_and_rescue         0.027617\nsecurity                  0.017966\nmilitary                  0.032804\nwater                     0.063778\nfood                      0.111497\nshelter                   0.088267\nclothing                  0.015449\nmoney                     0.023039\nmissing_people            0.011367\nrefugees                  0.033377\ndeath                     0.045545\nother_aid                 0.131446\ninfrastructure_related    0.065037\ntransport                 0.045812\nbuildings                 0.050847\nelectricity               0.020293\nhospitals                 0.010795\nshops                     0.004577\naid_centers               0.011787\nother_infrastructure      0.043904\nweather_related           0.278341\nfloods                    0.082202\nstorm                     0.093187\nfire                      0.010757\nearthquake                0.093645\ncold                      0.020217\nother_weather             0.052487\ndirect_report             0.193584\ndtype: float64"
     },
     "execution_count": 13,
     "metadata": {},
     "output_type": "execute_result"
    }
   ],
   "source": [
    "# Distribution of class\n",
    "Y.sum()/len(Y)"
   ],
   "metadata": {
    "collapsed": false
   }
  },
  {
   "cell_type": "markdown",
   "source": [
    "### 2. Write a tokenization function to process your text data"
   ],
   "metadata": {
    "collapsed": false
   }
  },
  {
   "cell_type": "code",
   "execution_count": 14,
   "metadata": {},
   "outputs": [],
   "source": [
    "def tokenize(text):\n",
    "    url_regex = 'http[s]?://(?:[a-zA-Z]|[0-9]|[$-_@.&+]|[!*\\(\\),]|(?:%[0-9a-fA-F][0-9a-fA-F]))+'\n",
    "    # detect all URL present in the messages\n",
    "    detected_urls = re.findall(url_regex, text)\n",
    "    # replace URL with \"urlplaceholder\"\n",
    "    for url in detected_urls:\n",
    "        text = text.replace(url, \"urlplaceholder\")\n",
    "\n",
    "    tokens = word_tokenize(text)\n",
    "    lemmatizer = WordNetLemmatizer()\n",
    "\n",
    "    clean_tokens = []\n",
    "    for tok in tokens:\n",
    "        clean_tok = lemmatizer.lemmatize(tok).lower().strip()\n",
    "        clean_tokens.append(clean_tok)\n",
    "\n",
    "    return clean_tokens"
   ]
  },
  {
   "cell_type": "code",
   "execution_count": 15,
   "outputs": [],
   "source": [
    "\n",
    "# def tokenize(text):\n",
    "#\n",
    "#     # Normalize and tokenize and remove punctuation\n",
    "#     words = word_tokenize(re.sub(r\"[^a-zA-Z0-9]\", \" \", text.lower()))\n",
    "#\n",
    "#     # Remove stopwords.\n",
    "#     words = [w for w in words if w not in stopwords.words(\"english\")]\n",
    "#\n",
    "#     # Reduce words to their root form\n",
    "#     lemmed = [WordNetLemmatizer().lemmatize(w) for w in words]\n",
    "#\n",
    "#     return lemmed\n"
   ],
   "metadata": {
    "collapsed": false
   }
  },
  {
   "cell_type": "code",
   "execution_count": 16,
   "outputs": [],
   "source": [
    "#X[\"tokenised\"] = X[\"message\"].apply(lambda x: tokenize(x))"
   ],
   "metadata": {
    "collapsed": false
   }
  },
  {
   "cell_type": "code",
   "execution_count": 17,
   "outputs": [
    {
     "data": {
      "text/plain": "                                                 message   genre\n0      Weather update - a cold front from Cuba that c...  direct\n1                Is the Hurricane over or is it not over  direct\n2                        Looking for someone but no name  direct\n3      UN reports Leogane 80-90 destroyed. Only Hospi...  direct\n4      says: west side of Haiti, rest of the country ...  direct\n...                                                  ...     ...\n26211  The training demonstrated how to enhance micro...    news\n26212  A suitable candidate has been selected and OCH...    news\n26213  Proshika, operating in Cox's Bazar municipalit...    news\n26214  Some 2,000 women protesting against the conduc...    news\n26215  A radical shift in thinking came about as a re...    news\n\n[26216 rows x 2 columns]",
      "text/html": "<div>\n<style scoped>\n    .dataframe tbody tr th:only-of-type {\n        vertical-align: middle;\n    }\n\n    .dataframe tbody tr th {\n        vertical-align: top;\n    }\n\n    .dataframe thead th {\n        text-align: right;\n    }\n</style>\n<table border=\"1\" class=\"dataframe\">\n  <thead>\n    <tr style=\"text-align: right;\">\n      <th></th>\n      <th>message</th>\n      <th>genre</th>\n    </tr>\n  </thead>\n  <tbody>\n    <tr>\n      <th>0</th>\n      <td>Weather update - a cold front from Cuba that c...</td>\n      <td>direct</td>\n    </tr>\n    <tr>\n      <th>1</th>\n      <td>Is the Hurricane over or is it not over</td>\n      <td>direct</td>\n    </tr>\n    <tr>\n      <th>2</th>\n      <td>Looking for someone but no name</td>\n      <td>direct</td>\n    </tr>\n    <tr>\n      <th>3</th>\n      <td>UN reports Leogane 80-90 destroyed. Only Hospi...</td>\n      <td>direct</td>\n    </tr>\n    <tr>\n      <th>4</th>\n      <td>says: west side of Haiti, rest of the country ...</td>\n      <td>direct</td>\n    </tr>\n    <tr>\n      <th>...</th>\n      <td>...</td>\n      <td>...</td>\n    </tr>\n    <tr>\n      <th>26211</th>\n      <td>The training demonstrated how to enhance micro...</td>\n      <td>news</td>\n    </tr>\n    <tr>\n      <th>26212</th>\n      <td>A suitable candidate has been selected and OCH...</td>\n      <td>news</td>\n    </tr>\n    <tr>\n      <th>26213</th>\n      <td>Proshika, operating in Cox's Bazar municipalit...</td>\n      <td>news</td>\n    </tr>\n    <tr>\n      <th>26214</th>\n      <td>Some 2,000 women protesting against the conduc...</td>\n      <td>news</td>\n    </tr>\n    <tr>\n      <th>26215</th>\n      <td>A radical shift in thinking came about as a re...</td>\n      <td>news</td>\n    </tr>\n  </tbody>\n</table>\n<p>26216 rows × 2 columns</p>\n</div>"
     },
     "execution_count": 17,
     "metadata": {},
     "output_type": "execute_result"
    }
   ],
   "source": [
    "X"
   ],
   "metadata": {
    "collapsed": false
   }
  },
  {
   "cell_type": "markdown",
   "source": [
    "### 3. Build a machine learning pipeline\n",
    "This machine pipeline should take in the `message` column as input and output classification results on the other 36 categories in the dataset. You may find the [MultiOutputClassifier](http://scikit-learn.org/stable/modules/generated/sklearn.multioutput.MultiOutputClassifier.html) helpful for predicting multiple target variables.\n",
    "\n"
   ],
   "metadata": {
    "collapsed": false
   }
  },
  {
   "cell_type": "markdown",
   "metadata": {},
   "source": [
    "### 4. Train pipeline\n",
    "- Split data into train and test sets\n",
    "- Train pipeline"
   ]
  },
  {
   "cell_type": "code",
   "execution_count": 18,
   "metadata": {},
   "outputs": [],
   "source": [
    "def pipeline1(clf = RandomForestClassifier(random_state = 1)):\n",
    "    pipeline = Pipeline([\n",
    "        ('vect', CountVectorizer(tokenizer=tokenize)),\n",
    "        ('tfidf', TfidfTransformer()),\n",
    "        ('clf', MultiOutputClassifier(clf))\n",
    "    ])\n",
    "    return pipeline"
   ]
  },
  {
   "cell_type": "code",
   "execution_count": 19,
   "outputs": [
    {
     "data": {
      "text/plain": "       related  request  aid_related  medical_help  medical_products  \\\n0            1        0            0             0                 0   \n1            1        0            1             0                 0   \n2            1        0            0             0                 0   \n3            1        1            1             0                 1   \n4            1        0            0             0                 0   \n...        ...      ...          ...           ...               ...   \n26211        0        0            0             0                 0   \n26212        0        0            0             0                 0   \n26213        1        0            0             0                 0   \n26214        1        0            1             0                 0   \n26215        1        0            0             0                 0   \n\n       search_and_rescue  security  military  water  food  ...  aid_centers  \\\n0                      0         0         0      0     0  ...            0   \n1                      0         0         0      0     0  ...            0   \n2                      0         0         0      0     0  ...            0   \n3                      0         0         0      0     0  ...            0   \n4                      0         0         0      0     0  ...            0   \n...                  ...       ...       ...    ...   ...  ...          ...   \n26211                  0         0         0      0     0  ...            0   \n26212                  0         0         0      0     0  ...            0   \n26213                  0         0         0      0     0  ...            0   \n26214                  0         0         1      0     0  ...            0   \n26215                  0         0         0      0     0  ...            0   \n\n       other_infrastructure  weather_related  floods  storm  fire  earthquake  \\\n0                         0                0       0      0     0           0   \n1                         0                1       0      1     0           0   \n2                         0                0       0      0     0           0   \n3                         0                0       0      0     0           0   \n4                         0                0       0      0     0           0   \n...                     ...              ...     ...    ...   ...         ...   \n26211                     0                0       0      0     0           0   \n26212                     0                0       0      0     0           0   \n26213                     0                0       0      0     0           0   \n26214                     0                0       0      0     0           0   \n26215                     0                0       0      0     0           0   \n\n       cold  other_weather  direct_report  \n0         0              0              0  \n1         0              0              0  \n2         0              0              0  \n3         0              0              0  \n4         0              0              0  \n...     ...            ...            ...  \n26211     0              0              0  \n26212     0              0              0  \n26213     0              0              0  \n26214     0              0              0  \n26215     0              0              0  \n\n[26216 rows x 33 columns]",
      "text/html": "<div>\n<style scoped>\n    .dataframe tbody tr th:only-of-type {\n        vertical-align: middle;\n    }\n\n    .dataframe tbody tr th {\n        vertical-align: top;\n    }\n\n    .dataframe thead th {\n        text-align: right;\n    }\n</style>\n<table border=\"1\" class=\"dataframe\">\n  <thead>\n    <tr style=\"text-align: right;\">\n      <th></th>\n      <th>related</th>\n      <th>request</th>\n      <th>aid_related</th>\n      <th>medical_help</th>\n      <th>medical_products</th>\n      <th>search_and_rescue</th>\n      <th>security</th>\n      <th>military</th>\n      <th>water</th>\n      <th>food</th>\n      <th>...</th>\n      <th>aid_centers</th>\n      <th>other_infrastructure</th>\n      <th>weather_related</th>\n      <th>floods</th>\n      <th>storm</th>\n      <th>fire</th>\n      <th>earthquake</th>\n      <th>cold</th>\n      <th>other_weather</th>\n      <th>direct_report</th>\n    </tr>\n  </thead>\n  <tbody>\n    <tr>\n      <th>0</th>\n      <td>1</td>\n      <td>0</td>\n      <td>0</td>\n      <td>0</td>\n      <td>0</td>\n      <td>0</td>\n      <td>0</td>\n      <td>0</td>\n      <td>0</td>\n      <td>0</td>\n      <td>...</td>\n      <td>0</td>\n      <td>0</td>\n      <td>0</td>\n      <td>0</td>\n      <td>0</td>\n      <td>0</td>\n      <td>0</td>\n      <td>0</td>\n      <td>0</td>\n      <td>0</td>\n    </tr>\n    <tr>\n      <th>1</th>\n      <td>1</td>\n      <td>0</td>\n      <td>1</td>\n      <td>0</td>\n      <td>0</td>\n      <td>0</td>\n      <td>0</td>\n      <td>0</td>\n      <td>0</td>\n      <td>0</td>\n      <td>...</td>\n      <td>0</td>\n      <td>0</td>\n      <td>1</td>\n      <td>0</td>\n      <td>1</td>\n      <td>0</td>\n      <td>0</td>\n      <td>0</td>\n      <td>0</td>\n      <td>0</td>\n    </tr>\n    <tr>\n      <th>2</th>\n      <td>1</td>\n      <td>0</td>\n      <td>0</td>\n      <td>0</td>\n      <td>0</td>\n      <td>0</td>\n      <td>0</td>\n      <td>0</td>\n      <td>0</td>\n      <td>0</td>\n      <td>...</td>\n      <td>0</td>\n      <td>0</td>\n      <td>0</td>\n      <td>0</td>\n      <td>0</td>\n      <td>0</td>\n      <td>0</td>\n      <td>0</td>\n      <td>0</td>\n      <td>0</td>\n    </tr>\n    <tr>\n      <th>3</th>\n      <td>1</td>\n      <td>1</td>\n      <td>1</td>\n      <td>0</td>\n      <td>1</td>\n      <td>0</td>\n      <td>0</td>\n      <td>0</td>\n      <td>0</td>\n      <td>0</td>\n      <td>...</td>\n      <td>0</td>\n      <td>0</td>\n      <td>0</td>\n      <td>0</td>\n      <td>0</td>\n      <td>0</td>\n      <td>0</td>\n      <td>0</td>\n      <td>0</td>\n      <td>0</td>\n    </tr>\n    <tr>\n      <th>4</th>\n      <td>1</td>\n      <td>0</td>\n      <td>0</td>\n      <td>0</td>\n      <td>0</td>\n      <td>0</td>\n      <td>0</td>\n      <td>0</td>\n      <td>0</td>\n      <td>0</td>\n      <td>...</td>\n      <td>0</td>\n      <td>0</td>\n      <td>0</td>\n      <td>0</td>\n      <td>0</td>\n      <td>0</td>\n      <td>0</td>\n      <td>0</td>\n      <td>0</td>\n      <td>0</td>\n    </tr>\n    <tr>\n      <th>...</th>\n      <td>...</td>\n      <td>...</td>\n      <td>...</td>\n      <td>...</td>\n      <td>...</td>\n      <td>...</td>\n      <td>...</td>\n      <td>...</td>\n      <td>...</td>\n      <td>...</td>\n      <td>...</td>\n      <td>...</td>\n      <td>...</td>\n      <td>...</td>\n      <td>...</td>\n      <td>...</td>\n      <td>...</td>\n      <td>...</td>\n      <td>...</td>\n      <td>...</td>\n      <td>...</td>\n    </tr>\n    <tr>\n      <th>26211</th>\n      <td>0</td>\n      <td>0</td>\n      <td>0</td>\n      <td>0</td>\n      <td>0</td>\n      <td>0</td>\n      <td>0</td>\n      <td>0</td>\n      <td>0</td>\n      <td>0</td>\n      <td>...</td>\n      <td>0</td>\n      <td>0</td>\n      <td>0</td>\n      <td>0</td>\n      <td>0</td>\n      <td>0</td>\n      <td>0</td>\n      <td>0</td>\n      <td>0</td>\n      <td>0</td>\n    </tr>\n    <tr>\n      <th>26212</th>\n      <td>0</td>\n      <td>0</td>\n      <td>0</td>\n      <td>0</td>\n      <td>0</td>\n      <td>0</td>\n      <td>0</td>\n      <td>0</td>\n      <td>0</td>\n      <td>0</td>\n      <td>...</td>\n      <td>0</td>\n      <td>0</td>\n      <td>0</td>\n      <td>0</td>\n      <td>0</td>\n      <td>0</td>\n      <td>0</td>\n      <td>0</td>\n      <td>0</td>\n      <td>0</td>\n    </tr>\n    <tr>\n      <th>26213</th>\n      <td>1</td>\n      <td>0</td>\n      <td>0</td>\n      <td>0</td>\n      <td>0</td>\n      <td>0</td>\n      <td>0</td>\n      <td>0</td>\n      <td>0</td>\n      <td>0</td>\n      <td>...</td>\n      <td>0</td>\n      <td>0</td>\n      <td>0</td>\n      <td>0</td>\n      <td>0</td>\n      <td>0</td>\n      <td>0</td>\n      <td>0</td>\n      <td>0</td>\n      <td>0</td>\n    </tr>\n    <tr>\n      <th>26214</th>\n      <td>1</td>\n      <td>0</td>\n      <td>1</td>\n      <td>0</td>\n      <td>0</td>\n      <td>0</td>\n      <td>0</td>\n      <td>1</td>\n      <td>0</td>\n      <td>0</td>\n      <td>...</td>\n      <td>0</td>\n      <td>0</td>\n      <td>0</td>\n      <td>0</td>\n      <td>0</td>\n      <td>0</td>\n      <td>0</td>\n      <td>0</td>\n      <td>0</td>\n      <td>0</td>\n    </tr>\n    <tr>\n      <th>26215</th>\n      <td>1</td>\n      <td>0</td>\n      <td>0</td>\n      <td>0</td>\n      <td>0</td>\n      <td>0</td>\n      <td>0</td>\n      <td>0</td>\n      <td>0</td>\n      <td>0</td>\n      <td>...</td>\n      <td>0</td>\n      <td>0</td>\n      <td>0</td>\n      <td>0</td>\n      <td>0</td>\n      <td>0</td>\n      <td>0</td>\n      <td>0</td>\n      <td>0</td>\n      <td>0</td>\n    </tr>\n  </tbody>\n</table>\n<p>26216 rows × 33 columns</p>\n</div>"
     },
     "execution_count": 19,
     "metadata": {},
     "output_type": "execute_result"
    }
   ],
   "source": [
    "Y"
   ],
   "metadata": {
    "collapsed": false
   }
  },
  {
   "cell_type": "code",
   "execution_count": 20,
   "outputs": [
    {
     "name": "stdout",
     "output_type": "stream",
     "text": [
      "Xtrain size: 19662\n",
      "Ytrain size: 19662\n"
     ]
    }
   ],
   "source": [
    "X_load = X[\"message\"].values\n",
    "Y_load = Y.values\n",
    "X_train, X_test, y_train, y_test = train_test_split(X_load, Y_load, random_state = 1)\n",
    "pipeline = pipeline1()\n",
    "pipeline.get_params().keys()\n",
    "\n",
    "print(\"Xtrain size: {}\".format(X_train.shape[0]))\n",
    "print(\"Ytrain size: {}\".format(y_train.shape[0]))\n"
   ],
   "metadata": {
    "collapsed": false
   }
  },
  {
   "cell_type": "code",
   "execution_count": 21,
   "outputs": [
    {
     "name": "stderr",
     "output_type": "stream",
     "text": [
      "C:\\Users\\PC-1\\Documents\\GitHub\\data-science\\venv\\lib\\site-packages\\sklearn\\feature_extraction\\text.py:528: UserWarning: The parameter 'token_pattern' will not be used since 'tokenizer' is not None'\n",
      "  warnings.warn(\n"
     ]
    },
    {
     "name": "stdout",
     "output_type": "stream",
     "text": [
      "CPU times: total: 15min 57s\n",
      "Wall time: 15min 57s\n"
     ]
    }
   ],
   "source": [
    "%%time\n",
    "_ = pipeline.fit(X_train, y_train)\n"
   ],
   "metadata": {
    "collapsed": false
   }
  },
  {
   "cell_type": "markdown",
   "metadata": {},
   "source": [
    "### 5. Test your model\n",
    "Report the f1 score, precision and recall for each output category of the dataset. You can do this by iterating through the columns and calling sklearn's `classification_report` on each."
   ]
  },
  {
   "cell_type": "code",
   "execution_count": 22,
   "outputs": [
    {
     "name": "stdout",
     "output_type": "stream",
     "text": [
      "                        precision    recall  f1-score   support\n",
      "\n",
      "               related       0.81      0.97      0.88      5004\n",
      "               request       0.91      0.45      0.60      1139\n",
      "           aid_related       0.79      0.60      0.68      2739\n",
      "          medical_help       0.67      0.06      0.10       553\n",
      "      medical_products       0.76      0.05      0.10       349\n",
      "     search_and_rescue       0.67      0.02      0.05       167\n",
      "              security       0.50      0.01      0.02       112\n",
      "              military       0.67      0.02      0.04       190\n",
      "                 water       0.90      0.22      0.35       430\n",
      "                  food       0.88      0.41      0.56       754\n",
      "               shelter       0.89      0.23      0.36       576\n",
      "              clothing       0.78      0.07      0.13        99\n",
      "                 money       1.00      0.01      0.03       141\n",
      "        missing_people       0.67      0.03      0.05        80\n",
      "              refugees       0.33      0.01      0.03       216\n",
      "                 death       0.78      0.12      0.21       287\n",
      "             other_aid       0.69      0.01      0.02       889\n",
      "infrastructure_related       0.50      0.00      0.01       421\n",
      "             transport       0.88      0.05      0.09       296\n",
      "             buildings       0.68      0.04      0.07       355\n",
      "           electricity       1.00      0.01      0.03       137\n",
      "             hospitals       0.00      0.00      0.00        66\n",
      "                 shops       0.00      0.00      0.00        28\n",
      "           aid_centers       0.00      0.00      0.00        71\n",
      "  other_infrastructure       0.00      0.00      0.00       289\n",
      "       weather_related       0.87      0.60      0.71      1810\n",
      "                floods       0.90      0.35      0.50       546\n",
      "                 storm       0.81      0.39      0.52       626\n",
      "                  fire       0.00      0.00      0.00        75\n",
      "            earthquake       0.89      0.69      0.78       595\n",
      "                  cold       0.88      0.06      0.11       117\n",
      "         other_weather       0.57      0.01      0.02       335\n",
      "         direct_report       0.88      0.35      0.50      1309\n",
      "\n",
      "             micro avg       0.83      0.49      0.61     20801\n",
      "             macro avg       0.65      0.18      0.23     20801\n",
      "          weighted avg       0.78      0.49      0.53     20801\n",
      "           samples avg       0.70      0.46      0.51     20801\n",
      "\n"
     ]
    },
    {
     "name": "stderr",
     "output_type": "stream",
     "text": [
      "C:\\Users\\PC-1\\Documents\\GitHub\\data-science\\venv\\lib\\site-packages\\sklearn\\metrics\\_classification.py:1344: UndefinedMetricWarning: Precision and F-score are ill-defined and being set to 0.0 in labels with no predicted samples. Use `zero_division` parameter to control this behavior.\n",
      "  _warn_prf(average, modifier, msg_start, len(result))\n",
      "C:\\Users\\PC-1\\Documents\\GitHub\\data-science\\venv\\lib\\site-packages\\sklearn\\metrics\\_classification.py:1344: UndefinedMetricWarning: Precision and F-score are ill-defined and being set to 0.0 in samples with no predicted labels. Use `zero_division` parameter to control this behavior.\n",
      "  _warn_prf(average, modifier, msg_start, len(result))\n",
      "C:\\Users\\PC-1\\Documents\\GitHub\\data-science\\venv\\lib\\site-packages\\sklearn\\metrics\\_classification.py:1344: UndefinedMetricWarning: Recall and F-score are ill-defined and being set to 0.0 in samples with no true labels. Use `zero_division` parameter to control this behavior.\n",
      "  _warn_prf(average, modifier, msg_start, len(result))\n"
     ]
    }
   ],
   "source": [
    "y_pred = pipeline.predict(X_test)\n",
    "print(classification_report(y_test, y_pred, target_names = list(Y.columns.values)))\n"
   ],
   "metadata": {
    "collapsed": false
   }
  },
  {
   "cell_type": "markdown",
   "metadata": {},
   "source": [
    "### 6. Improve your model\n",
    "Use grid search to find better parameters.\n"
   ]
  },
  {
   "cell_type": "code",
   "execution_count": 23,
   "metadata": {},
   "outputs": [],
   "source": [
    "def mid_f1(y_true, y_pred):\n",
    "    f1_list = []\n",
    "    for i in range(np.shape(y_pred)[1]):\n",
    "        f1 = f1_score(np.array(y_true)[:, i], y_pred[:, i])\n",
    "        f1_list.append(f1)\n",
    "\n",
    "    score = np.median(f1_list)\n",
    "    return score"
   ]
  },
  {
   "cell_type": "code",
   "execution_count": 24,
   "outputs": [
    {
     "name": "stdout",
     "output_type": "stream",
     "text": [
      "CPU times: total: 0 ns\n",
      "Wall time: 1 ms\n"
     ]
    }
   ],
   "source": [
    "%%time\n",
    "#Grid search\n",
    "\n",
    "pipeline_1 = pipeline1()\n",
    "\n",
    "parameters = {'vect__min_df': [1, 5],\n",
    "              'tfidf__use_idf':[True, False],\n",
    "              'clf__estimator__n_estimators':[10, 25],\n",
    "              'clf__estimator__min_samples_split':[5, 10]}\n",
    "\n",
    "scorer = make_scorer(mid_f1)\n",
    "pipeline_cv = GridSearchCV(estimator=pipeline_1, param_grid=parameters, cv=3, verbose=10, n_jobs=-1)\n"
   ],
   "metadata": {
    "collapsed": false
   }
  },
  {
   "cell_type": "code",
   "execution_count": 25,
   "outputs": [
    {
     "name": "stdout",
     "output_type": "stream",
     "text": [
      "Fitting 3 folds for each of 16 candidates, totalling 48 fits\n"
     ]
    },
    {
     "name": "stderr",
     "output_type": "stream",
     "text": [
      "C:\\Users\\PC-1\\Documents\\GitHub\\data-science\\venv\\lib\\site-packages\\sklearn\\feature_extraction\\text.py:528: UserWarning: The parameter 'token_pattern' will not be used since 'tokenizer' is not None'\n",
      "  warnings.warn(\n"
     ]
    },
    {
     "name": "stdout",
     "output_type": "stream",
     "text": [
      "Best Parameters: {'clf__estimator__min_samples_split': 10, 'clf__estimator__n_estimators': 25, 'tfidf__use_idf': True, 'vect__min_df': 5}\n",
      "CPU times: total: 1min 38s\n",
      "Wall time: 6min 51s\n"
     ]
    }
   ],
   "source": [
    "%%time\n",
    "np.random.seed(333)\n",
    "pipeline_cv.fit(X_train, y_train)\n",
    "print('Best Parameters:', pipeline_cv.best_params_)\n"
   ],
   "metadata": {
    "collapsed": false
   }
  },
  {
   "cell_type": "markdown",
   "metadata": {},
   "source": [
    "### 7. Test your model\n",
    "Show the accuracy, precision, and recall of the tuned model.  \n",
    "\n",
    "Since this project focuses on code quality, process, and  pipelines, there is no minimum performance metric needed to pass. However, make sure to fine tune your models for accuracy, precision and recall to make your project stand out - especially for your portfolio!"
   ]
  },
  {
   "cell_type": "code",
   "execution_count": 26,
   "metadata": {},
   "outputs": [
    {
     "name": "stdout",
     "output_type": "stream",
     "text": [
      "                        precision    recall  f1-score   support\n",
      "\n",
      "               related       0.82      0.97      0.89      5004\n",
      "               request       0.87      0.47      0.61      1139\n",
      "           aid_related       0.76      0.63      0.69      2739\n",
      "          medical_help       0.62      0.14      0.22       553\n",
      "      medical_products       0.79      0.13      0.22       349\n",
      "     search_and_rescue       0.56      0.08      0.15       167\n",
      "              security       0.00      0.00      0.00       112\n",
      "              military       0.47      0.07      0.13       190\n",
      "                 water       0.89      0.38      0.53       430\n",
      "                  food       0.82      0.63      0.72       754\n",
      "               shelter       0.81      0.37      0.50       576\n",
      "              clothing       0.85      0.17      0.29        99\n",
      "                 money       1.00      0.02      0.04       141\n",
      "        missing_people       1.00      0.03      0.05        80\n",
      "              refugees       0.66      0.10      0.17       216\n",
      "                 death       0.82      0.21      0.33       287\n",
      "             other_aid       0.62      0.03      0.06       889\n",
      "infrastructure_related       0.50      0.00      0.00       421\n",
      "             transport       0.70      0.10      0.18       296\n",
      "             buildings       0.84      0.09      0.16       355\n",
      "           electricity       0.50      0.02      0.04       137\n",
      "             hospitals       0.00      0.00      0.00        66\n",
      "                 shops       0.00      0.00      0.00        28\n",
      "           aid_centers       0.00      0.00      0.00        71\n",
      "  other_infrastructure       0.00      0.00      0.00       289\n",
      "       weather_related       0.84      0.67      0.75      1810\n",
      "                floods       0.89      0.45      0.59       546\n",
      "                 storm       0.78      0.60      0.68       626\n",
      "                  fire       1.00      0.01      0.03        75\n",
      "            earthquake       0.89      0.76      0.82       595\n",
      "                  cold       0.60      0.15      0.24       117\n",
      "         other_weather       0.64      0.07      0.13       335\n",
      "         direct_report       0.82      0.37      0.51      1309\n",
      "\n",
      "             micro avg       0.81      0.53      0.64     20801\n",
      "             macro avg       0.65      0.23      0.30     20801\n",
      "          weighted avg       0.76      0.53      0.58     20801\n",
      "           samples avg       0.68      0.49      0.52     20801\n",
      "\n"
     ]
    },
    {
     "name": "stderr",
     "output_type": "stream",
     "text": [
      "C:\\Users\\PC-1\\Documents\\GitHub\\data-science\\venv\\lib\\site-packages\\sklearn\\metrics\\_classification.py:1344: UndefinedMetricWarning: Precision and F-score are ill-defined and being set to 0.0 in labels with no predicted samples. Use `zero_division` parameter to control this behavior.\n",
      "  _warn_prf(average, modifier, msg_start, len(result))\n",
      "C:\\Users\\PC-1\\Documents\\GitHub\\data-science\\venv\\lib\\site-packages\\sklearn\\metrics\\_classification.py:1344: UndefinedMetricWarning: Precision and F-score are ill-defined and being set to 0.0 in samples with no predicted labels. Use `zero_division` parameter to control this behavior.\n",
      "  _warn_prf(average, modifier, msg_start, len(result))\n",
      "C:\\Users\\PC-1\\Documents\\GitHub\\data-science\\venv\\lib\\site-packages\\sklearn\\metrics\\_classification.py:1344: UndefinedMetricWarning: Recall and F-score are ill-defined and being set to 0.0 in samples with no true labels. Use `zero_division` parameter to control this behavior.\n",
      "  _warn_prf(average, modifier, msg_start, len(result))\n"
     ]
    }
   ],
   "source": [
    "y_pred = pipeline_cv.predict(X_test)\n",
    "print(classification_report(y_test, y_pred, target_names = list(Y.columns.values)))\n"
   ]
  },
  {
   "cell_type": "markdown",
   "metadata": {},
   "source": [
    "### 8. Try improving your model further. Here are a few ideas:\n",
    "* try other machine learning algorithms\n",
    "* add other features besides the TF-IDF"
   ]
  },
  {
   "cell_type": "code",
   "execution_count": 27,
   "outputs": [],
   "source": [
    "# Engineer new features.\n",
    "class StartingVerbExtractor(BaseEstimator, TransformerMixin):\n",
    "\n",
    "    def starting_verb(self, text):\n",
    "        sentence_list = nltk.sent_tokenize(text)\n",
    "        for sentence in sentence_list:\n",
    "            pos_tags = nltk.pos_tag(tokenize(sentence))\n",
    "            first_word, first_tag = pos_tags[0]\n",
    "            if first_tag in ['VB', 'VBP'] or first_word == 'RT':\n",
    "                return True\n",
    "        return False\n",
    "\n",
    "    def fit(self, X, y=None):\n",
    "        return self\n",
    "\n",
    "    def transform(self, X):\n",
    "        X_tagged = pd.Series(X).apply(self.starting_verb)\n",
    "        return pd.DataFrame(X_tagged)\n",
    "\n",
    "# Try an adaptive boosting model.\n",
    "def pipeline2(clf  = AdaBoostClassifier(random_state = 1)):\n",
    "     pipeline = Pipeline([\n",
    "         ('features', FeatureUnion([\n",
    "            ('text_pipeline', Pipeline([\n",
    "                ('vect', CountVectorizer(tokenizer=tokenize)),\n",
    "                ('tfidf', TfidfTransformer())\n",
    "            ])),\n",
    "            ('starting_verb', StartingVerbExtractor())\n",
    "         ])),\n",
    "         ('clf', MultiOutputClassifier(clf))\n",
    "     ])\n",
    "     return pipeline\n",
    "\n",
    "# pipeline = pipeline2()\n",
    "\n",
    "# get list of model parameters\n",
    "# pipeline.get_params().keys()\n",
    "\n",
    "# pipeline2 = ML_pipeline()\n"
   ],
   "metadata": {
    "collapsed": false
   }
  },
  {
   "cell_type": "code",
   "execution_count": 28,
   "metadata": {},
   "outputs": [],
   "source": [
    "parameters_ada = {\n",
    "    'clf__estimator__learning_rate': [0.1, 0.3],\n",
    "    'clf__estimator__n_estimators': [100, 200]\n",
    "}"
   ]
  },
  {
   "cell_type": "code",
   "execution_count": 29,
   "outputs": [],
   "source": [
    "#pipeline_cv = GridSearchCV(estimator=pipeline, param_grid=parameters_ada, cv=3, scoring='f1_weighted', verbose=3)\n",
    "pipeline_2 = pipeline2()\n",
    "pipeline_cv = GridSearchCV(estimator=pipeline_2, param_grid=parameters_ada, cv=3, verbose=10, n_jobs=-1)\n"
   ],
   "metadata": {
    "collapsed": false
   }
  },
  {
   "cell_type": "code",
   "execution_count": 30,
   "outputs": [
    {
     "name": "stdout",
     "output_type": "stream",
     "text": [
      "Fitting 3 folds for each of 4 candidates, totalling 12 fits\n"
     ]
    },
    {
     "name": "stderr",
     "output_type": "stream",
     "text": [
      "C:\\Users\\PC-1\\Documents\\GitHub\\data-science\\venv\\lib\\site-packages\\sklearn\\feature_extraction\\text.py:528: UserWarning: The parameter 'token_pattern' will not be used since 'tokenizer' is not None'\n",
      "  warnings.warn(\n"
     ]
    },
    {
     "name": "stdout",
     "output_type": "stream",
     "text": [
      "Best Parameters: {'clf__estimator__learning_rate': 0.3, 'clf__estimator__n_estimators': 200}\n",
      "CPU times: total: 10min 49s\n",
      "Wall time: 21min 14s\n"
     ]
    }
   ],
   "source": [
    "%%time\n",
    "np.random.seed(333)\n",
    "pipeline_cv.fit(X_train, y_train)\n",
    "print('Best Parameters:', pipeline_cv.best_params_)\n"
   ],
   "metadata": {
    "collapsed": false
   }
  },
  {
   "cell_type": "code",
   "execution_count": 31,
   "outputs": [
    {
     "name": "stdout",
     "output_type": "stream",
     "text": [
      "                        precision    recall  f1-score   support\n",
      "\n",
      "               related       0.82      0.97      0.89      5004\n",
      "               request       0.83      0.53      0.65      1139\n",
      "           aid_related       0.79      0.58      0.67      2739\n",
      "          medical_help       0.65      0.19      0.29       553\n",
      "      medical_products       0.69      0.23      0.34       349\n",
      "     search_and_rescue       0.52      0.10      0.17       167\n",
      "              security       0.67      0.02      0.03       112\n",
      "              military       0.52      0.23      0.32       190\n",
      "                 water       0.78      0.63      0.70       430\n",
      "                  food       0.81      0.71      0.76       754\n",
      "               shelter       0.81      0.50      0.62       576\n",
      "              clothing       0.80      0.43      0.56        99\n",
      "                 money       0.65      0.20      0.30       141\n",
      "        missing_people       0.79      0.19      0.30        80\n",
      "              refugees       0.67      0.19      0.30       216\n",
      "                 death       0.81      0.44      0.57       287\n",
      "             other_aid       0.60      0.07      0.12       889\n",
      "infrastructure_related       0.64      0.04      0.08       421\n",
      "             transport       0.77      0.16      0.26       296\n",
      "             buildings       0.78      0.33      0.46       355\n",
      "           electricity       0.68      0.20      0.31       137\n",
      "             hospitals       0.29      0.03      0.05        66\n",
      "                 shops       0.00      0.00      0.00        28\n",
      "           aid_centers       0.22      0.03      0.05        71\n",
      "  other_infrastructure       0.30      0.02      0.04       289\n",
      "       weather_related       0.88      0.62      0.73      1810\n",
      "                floods       0.87      0.52      0.65       546\n",
      "                 storm       0.80      0.50      0.62       626\n",
      "                  fire       0.72      0.17      0.28        75\n",
      "            earthquake       0.89      0.76      0.82       595\n",
      "                  cold       0.69      0.34      0.46       117\n",
      "         other_weather       0.56      0.09      0.15       335\n",
      "         direct_report       0.78      0.45      0.57      1309\n",
      "\n",
      "             micro avg       0.81      0.57      0.66     20801\n",
      "             macro avg       0.67      0.32      0.40     20801\n",
      "          weighted avg       0.77      0.57      0.62     20801\n",
      "           samples avg       0.68      0.51      0.53     20801\n",
      "\n"
     ]
    },
    {
     "name": "stderr",
     "output_type": "stream",
     "text": [
      "C:\\Users\\PC-1\\Documents\\GitHub\\data-science\\venv\\lib\\site-packages\\sklearn\\metrics\\_classification.py:1344: UndefinedMetricWarning: Precision and F-score are ill-defined and being set to 0.0 in labels with no predicted samples. Use `zero_division` parameter to control this behavior.\n",
      "  _warn_prf(average, modifier, msg_start, len(result))\n",
      "C:\\Users\\PC-1\\Documents\\GitHub\\data-science\\venv\\lib\\site-packages\\sklearn\\metrics\\_classification.py:1344: UndefinedMetricWarning: Precision and F-score are ill-defined and being set to 0.0 in samples with no predicted labels. Use `zero_division` parameter to control this behavior.\n",
      "  _warn_prf(average, modifier, msg_start, len(result))\n",
      "C:\\Users\\PC-1\\Documents\\GitHub\\data-science\\venv\\lib\\site-packages\\sklearn\\metrics\\_classification.py:1344: UndefinedMetricWarning: Recall and F-score are ill-defined and being set to 0.0 in samples with no true labels. Use `zero_division` parameter to control this behavior.\n",
      "  _warn_prf(average, modifier, msg_start, len(result))\n"
     ]
    }
   ],
   "source": [
    "y_pred = pipeline_cv.predict(X_test)\n",
    "print(classification_report(y_test, y_pred, target_names = list(Y.columns.values)))\n"
   ],
   "metadata": {
    "collapsed": false
   }
  },
  {
   "cell_type": "markdown",
   "metadata": {},
   "source": [
    "### 9. Export your model as a pickle file\n"
   ]
  },
  {
   "cell_type": "code",
   "execution_count": 32,
   "metadata": {},
   "outputs": [],
   "source": [
    "pickle.dump(pipeline_cv, open('disaster_ada_model.sav', 'wb'))\n"
   ]
  },
  {
   "cell_type": "markdown",
   "metadata": {},
   "source": [
    "### 10. Use this notebook to complete `train.py`\n",
    "Use the template file attached in the Resources folder to write a script that runs the steps above to create a database and export a model based on a new dataset specified by the user."
   ]
  },
  {
   "cell_type": "code",
   "execution_count": 32,
   "metadata": {},
   "outputs": [],
   "source": []
  }
 ],
 "metadata": {
  "kernelspec": {
   "display_name": "Python 3",
   "language": "python",
   "name": "python3"
  },
  "language_info": {
   "codemirror_mode": {
    "name": "ipython",
    "version": 3
   },
   "file_extension": ".py",
   "mimetype": "text/x-python",
   "name": "python",
   "nbconvert_exporter": "python",
   "pygments_lexer": "ipython3",
   "version": "3.6.3"
  }
 },
 "nbformat": 4,
 "nbformat_minor": 2
}
