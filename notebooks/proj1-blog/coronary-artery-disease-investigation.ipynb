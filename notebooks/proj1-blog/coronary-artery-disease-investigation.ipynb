{
 "cells": [
  {
   "cell_type": "markdown",
   "metadata": {
    "collapsed": true
   },
   "source": [
    "# Coronory Artery Disease Project\n",
    "## Exploratory analysis\n",
    "### Prediction of heart disease given 14 variables"
   ]
  },
  {
   "cell_type": "markdown",
   "metadata": {},
   "source": [
    "For this analysis we use the Cleveland \"Coronary Artery Disease\" dataset found on the UCI Machine Learning Repository\n",
    "at the following location:\n",
    "\n",
    "<a href=https://archive.ics.uci.edu/ml/datasets/Heart+Disease>Heart Disease Dataset</a>\n",
    "\n",
    "The objective of the analysis is to use statistical learning to identify factors associated with Coronary Artery\n",
    "Disease as indicated by a coronary angiography interpreted by a Cardiologist.\n",
    "\n",
    "According to the paper by (Detrano et al., 1989) the data represents data collected for 303 patients referred for\n",
    "coronary angiography at the Cleveland Clinic between May 1981 and September 1984. The 13 independent/ features\n",
    "variables can be divided into 3 groups as follows:\n",
    "\n",
    "Routine evaluation (based on historical data):\n",
    "* ECG at rest\n",
    "* Serum Cholesterol\n",
    "* Fasting blood sugar\n",
    "\n",
    "Non-invasive test data (informed consent obtained for data as part of research protocol):\n",
    "* Exercise ECG\n",
    "    * ST-segment peak slope (upsloping, flat or downsloping)\n",
    "    * ST-segment depression\n",
    "* Excercise Thallium scintigraphy (fixed, reversible or none)\n",
    "* Cardiac fluoroscopy (number of vessels appeared to contain calcium)\n",
    "\n",
    "Other demographic and clinical variables (based on routine data):\n",
    "* Age\n",
    "* Sex\n",
    "* Chest pain type\n",
    "* Systolic blood pressure\n",
    "* ST-T-wave abnormality (T-wave abnormality)\n",
    "* Probably or definite ventricular hypertrophy (Este's criteria)\n",
    "\n",
    "The dependent/ response variable was the angiographic test result indicating a >50% diameter narrowing.\n",
    "\n",
    "Detrano et al created 352 logistic regression models based on different combinations of the previously discussed\n",
    "13 variables. Depending on information available in the test dataset one of these models was applied during model\n",
    "validation.\n",
    "\n",
    "Unfortunately the the paper by (Detrano et al., 1989) does not publish extensive model accuracy results such as:\n",
    "overall accuracy, C-Statistic, precision (positive predictive value), recall (sensitivity) or specificity. The\n",
    "model was however validated on various external datasets which is very important. The positive predictive value\n",
    "(precision) is reported for a range of probability cut-off points for the various test sets. The various data sets\n",
    "have widely varying prevalence (38% - 81%), and hence te positive predictive value likewise varies widely between the\n",
    "reported tests.\n",
    "\n",
    "From these results one can see that the model was capable of a Precision of approximately 75% for datasets closely\n",
    "matching the Cleveland dataset in terms of disease prevalence within the test set.\n",
    "\n",
    "We are going to replicate the analysis by performing a logistic regression and will perform a validation study to\n",
    "confirm results obtained by (Detrano et al., 1989) in terms of model accuracy. Furthermore we will do an analysis of\n",
    "significance of the various logistic regression features as means of classifying feature importance.\n",
    "\n",
    "Subsequent to this analysis we will use an ensemble model (Random Forest) to create feature importance classifications\n",
    "to validate the regression findings. We will also apply our learnings to a Neural Network, to assess performance on\n",
    "the smaller dataset i.e. after features selection has been applied.\n",
    "\n",
    "We aim to achieve this by following the Machine Learning pipeline approach of deploying a variety of ML techniques to\n",
    "build a predictive model and analyse its results. In the process we hope to gain valuable insights. The various steps\n",
    "in the process are as follows (not necessarily in this order):\n",
    "\n",
    "- Load data\n",
    "- Prepare data\n",
    "    - Clean data\n",
    "        - Missing values\n",
    "        - Outliers\n",
    "        - Erroneous values\n",
    "    - Explore data\n",
    "        - Exploratory descriptive analysis (EDA)\n",
    "        - Correlation analysis\n",
    "        - Variable cluster analysis\n",
    "    - Transform Data\n",
    "        - Engineer features\n",
    "        - Encode data\n",
    "        - Scale & normalise data\n",
    "        - Impute data\n",
    "        - Feature selection/ importance analysis\n",
    "- Build model\n",
    "    - Model selection\n",
    "    - Data sampling (validation strategy, imbalanced classification)\n",
    "    - Hyperparameter optimisation\n",
    "- Validate model\n",
    "    - Accuracy testing\n",
    "- Analysis of results\n",
    "    - Response curves\n",
    "    - Accuracy analysis\n",
    "    - Commentary\n",
    "\n",
    "Let us start the analysis!"
   ]
  },
  {
   "cell_type": "code",
   "execution_count": 7,
   "metadata": {},
   "outputs": [
    {
     "name": "stdout",
     "output_type": "stream",
     "text": [
      "The autoreload extension is already loaded. To reload it, use:\n",
      "  %reload_ext autoreload\n"
     ]
    },
    {
     "ename": "ModuleNotFoundError",
     "evalue": "No module named 'mlxtend'",
     "output_type": "error",
     "traceback": [
      "\u001B[0;31m---------------------------------------------------------------------------\u001B[0m",
      "\u001B[0;31mModuleNotFoundError\u001B[0m                       Traceback (most recent call last)",
      "Input \u001B[0;32mIn [7]\u001B[0m, in \u001B[0;36m<module>\u001B[0;34m\u001B[0m\n\u001B[1;32m     21\u001B[0m \u001B[38;5;28;01mfrom\u001B[39;00m \u001B[38;5;21;01msklearn\u001B[39;00m\u001B[38;5;21;01m.\u001B[39;00m\u001B[38;5;21;01mlinear_model\u001B[39;00m \u001B[38;5;28;01mimport\u001B[39;00m LogisticRegression\n\u001B[1;32m     22\u001B[0m \u001B[38;5;28;01mimport\u001B[39;00m \u001B[38;5;21;01mstatsmodels\u001B[39;00m\u001B[38;5;21;01m.\u001B[39;00m\u001B[38;5;21;01mapi\u001B[39;00m \u001B[38;5;28;01mas\u001B[39;00m \u001B[38;5;21;01msm\u001B[39;00m\n\u001B[0;32m---> 23\u001B[0m \u001B[38;5;28;01mfrom\u001B[39;00m \u001B[38;5;21;01mmlxtend\u001B[39;00m\u001B[38;5;21;01m.\u001B[39;00m\u001B[38;5;21;01mfeature_selection\u001B[39;00m \u001B[38;5;28;01mimport\u001B[39;00m ExhaustiveFeatureSelector \u001B[38;5;28;01mas\u001B[39;00m EFS\n\u001B[1;32m     24\u001B[0m \u001B[38;5;28;01mfrom\u001B[39;00m \u001B[38;5;21;01msklearn\u001B[39;00m\u001B[38;5;21;01m.\u001B[39;00m\u001B[38;5;21;01mtree\u001B[39;00m \u001B[38;5;28;01mimport\u001B[39;00m export_graphviz\n\u001B[1;32m     25\u001B[0m \u001B[38;5;28;01mfrom\u001B[39;00m \u001B[38;5;21;01mIPython\u001B[39;00m\u001B[38;5;21;01m.\u001B[39;00m\u001B[38;5;21;01mdisplay\u001B[39;00m \u001B[38;5;28;01mimport\u001B[39;00m Image\n",
      "\u001B[0;31mModuleNotFoundError\u001B[0m: No module named 'mlxtend'"
     ]
    }
   ],
   "source": [
    "%load_ext autoreload\n",
    "%autoreload 2\n",
    "\n",
    "# Import libraries\n",
    "import pandas as pd\n",
    "import re\n",
    "import matplotlib.pyplot as plt\n",
    "import numpy as np\n",
    "from sklearn.tree import DecisionTreeClassifier, plot_tree\n",
    "from sklearn.ensemble import RandomForestClassifier\n",
    "from sklearn.preprocessing import StandardScaler, MinMaxScaler\n",
    "from sklearn.neural_network import MLPClassifier\n",
    "from sklearn.model_selection import train_test_split, cross_val_score\n",
    "from sklearn.metrics import accuracy_score, precision_score, recall_score, confusion_matrix\n",
    "import seaborn as sns\n",
    "from IPython.core.interactiveshell import InteractiveShell\n",
    "InteractiveShell.ast_node_interactivity = \"all\"\n",
    "from sklearn.feature_selection import SelectKBest\n",
    "from sklearn.feature_selection import f_classif, chi2\n",
    "from sklearn.metrics import roc_curve, auc\n",
    "from sklearn.linear_model import LogisticRegression\n",
    "import statsmodels.api as sm\n",
    "from mlxtend.feature_selection import ExhaustiveFeatureSelector as EFS\n",
    "from sklearn.tree import export_graphviz\n",
    "from IPython.display import Image\n",
    "from subprocess import call\n",
    "import warnings\n",
    "warnings.filterwarnings(\"ignore\")\n",
    "import os\n",
    "import sys\n",
    "sys.path.insert(0, os.path.abspath('../'))\n",
    "from src.visualization.visualize import plot_confusion_matrix, plot_roc_curve, plot_feature_importance, \\\n",
    "    plot_feature_importance_log, plot_feature_importance_dec, plotVar, plotAge, plotContinuous, plotCategorical\n",
    "from IPython.core.display import HTML as Center\n",
    "\n",
    "Center(\"\"\" <style>\n",
    ".output_png {\n",
    "    display: table-cell;\n",
    "    text-align: center;\n",
    "    vertical-align: middle;\n",
    "}\n",
    "</style> \"\"\")"
   ]
  },
  {
   "cell_type": "markdown",
   "metadata": {},
   "source": [
    "<div class=\"alert alert-block alert-info\">\n",
    "<b>Load data</b>\n",
    "</div>"
   ]
  },
  {
   "cell_type": "code",
   "execution_count": null,
   "metadata": {},
   "outputs": [],
   "source": [
    "# Import data\n",
    "df = pd.read_csv('../data/raw/processed.cleveland.data', header = None, names = ['age', 'sex', 'chest_pain_type', 'rest_blood_press', 'cholesterol',\n",
    "                'fasting_blood_sugar', 'rest_ecg', 'max_heart_rate', 'exer_ind_angina', 'st_depression', 'st_slope', 'num_major_vessels', 'thallium_scint', 'ca_disease'], index_col=None,\n",
    "                 usecols = [0, 1, 2, 3, 4, 5, 6, 7, 8, 9, 10, 11, 12, 13], sep=',', skipinitialspace=True)\n",
    "df.head(20)\n",
    "print(df.shape)"
   ]
  },
  {
   "attachments": {
    "data_dictionary2.png": {
     "image/png": "[encoded data removed]"
    }
   },
   "cell_type": "markdown",
   "metadata": {},
   "source": [
    "The dataset read from csv file has 303 rows and 14 columns.\n",
    "The data dictionary specified that 303 rows and 75 columns existed.\n",
    "We therefore have the same number of rows as the data dictionary, but 61 fewer columns...\n",
    "\n",
    "We were lucky that the data was already pre-processed, and this can be observed from the subset of data displayed\n",
    "appearing very clean. Hopefully not much further cleaning would be required.\n",
    "\n",
    "We created a data dictionary for the data is as follows:\n",
    "\n",
    "![data_dictionary2.png](attachment:data_dictionary2.png)\n",
    "\n",
    "The original field names were not very informative. We therefore renamed the fields based on information gathered\n",
    "from the article by Detrano et al.\n",
    "\n",
    "Let us explore the data!"
   ]
  },
  {
   "cell_type": "markdown",
   "metadata": {},
   "source": [
    "<div class=\"alert alert-block alert-info\">\n",
    "<b>Clean data</b>\n",
    "</div>"
   ]
  },
  {
   "cell_type": "code",
   "execution_count": null,
   "metadata": {},
   "outputs": [],
   "source": [
    "# Type of data\n",
    "print(df.info())"
   ]
  },
  {
   "cell_type": "markdown",
   "metadata": {},
   "source": [
    "From the output we observe that we have twelve numeric columns and two \"object\" columns. The data dictionary\n",
    "however specifies that all fields are numeric. This means that Python could not convert two numeric variables\n",
    "(num_major_vessels and thallium_scint) to numeric columns due to their contents being non-numeric. Let us investigate."
   ]
  },
  {
   "cell_type": "code",
   "execution_count": 8,
   "metadata": {},
   "outputs": [
    {
     "ename": "NameError",
     "evalue": "name 'df' is not defined",
     "output_type": "error",
     "traceback": [
      "\u001B[0;31m---------------------------------------------------------------------------\u001B[0m",
      "\u001B[0;31mNameError\u001B[0m                                 Traceback (most recent call last)",
      "Input \u001B[0;32mIn [8]\u001B[0m, in \u001B[0;36m<module>\u001B[0;34m\u001B[0m\n\u001B[1;32m      1\u001B[0m \u001B[38;5;66;03m# Find out what types of data is stored in object column. Use simple regex. Leading number omitted not catered for.\u001B[39;00m\n\u001B[1;32m      2\u001B[0m \u001B[38;5;66;03m# Future improvement.\u001B[39;00m\n\u001B[1;32m      3\u001B[0m r \u001B[38;5;241m=\u001B[39m re\u001B[38;5;241m.\u001B[39mcompile(\u001B[38;5;124mr\u001B[39m\u001B[38;5;124m'\u001B[39m\u001B[38;5;124m\\\u001B[39m\u001B[38;5;124md+[.,]\u001B[39m\u001B[38;5;124m\\\u001B[39m\u001B[38;5;124md*\u001B[39m\u001B[38;5;124m'\u001B[39m)\n\u001B[0;32m----> 4\u001B[0m \u001B[43mdf\u001B[49m\u001B[38;5;241m.\u001B[39mnum_major_vessels\u001B[38;5;241m.\u001B[39mapply(\u001B[38;5;28;01mlambda\u001B[39;00m x: \u001B[38;5;28mbool\u001B[39m(r\u001B[38;5;241m.\u001B[39mmatch(x)))\u001B[38;5;241m.\u001B[39mvalue_counts()\n\u001B[1;32m      5\u001B[0m df\u001B[38;5;241m.\u001B[39mthallium_scint\u001B[38;5;241m.\u001B[39mapply(\u001B[38;5;28;01mlambda\u001B[39;00m x: \u001B[38;5;28mbool\u001B[39m(r\u001B[38;5;241m.\u001B[39mmatch(x)))\u001B[38;5;241m.\u001B[39mvalue_counts()\n\u001B[1;32m      7\u001B[0m df\u001B[38;5;241m.\u001B[39mloc[df\u001B[38;5;241m.\u001B[39mnum_major_vessels\u001B[38;5;241m.\u001B[39mapply(\u001B[38;5;28;01mlambda\u001B[39;00m x: \u001B[38;5;28mbool\u001B[39m(r\u001B[38;5;241m.\u001B[39mmatch(x))) \u001B[38;5;241m==\u001B[39m \u001B[38;5;28;01mFalse\u001B[39;00m]\n",
      "\u001B[0;31mNameError\u001B[0m: name 'df' is not defined"
     ]
    }
   ],
   "source": [
    "# Find out what types of data is stored in object column. Use simple regex. Leading number omitted not catered for.\n",
    "# Future improvement.\n",
    "r = re.compile(r'\\d+[.,]\\d*')\n",
    "df.num_major_vessels.apply(lambda x: bool(r.match(x))).value_counts()\n",
    "df.thallium_scint.apply(lambda x: bool(r.match(x))).value_counts()\n",
    "\n",
    "df.loc[df.num_major_vessels.apply(lambda x: bool(r.match(x))) == False]\n",
    "df.loc[df.thallium_scint.apply(lambda x: bool(r.match(x))) == False]"
   ]
  },
  {
   "cell_type": "markdown",
   "metadata": {},
   "source": [
    "We can see that there are 4 non-numeric fields in num_major_vessels and 2 in thallium_scint. These values are all '?'.\n",
    "It is a reasonable assumption that these are missing values from data entry due to the placeholder. We will therefore\n",
    "clean the data by replacing these values with NaN and converting all character values to decimal."
   ]
  },
  {
   "cell_type": "code",
   "execution_count": null,
   "metadata": {},
   "outputs": [],
   "source": [
    "# Replace all non numeric data with NaN, convert strings to numbers.\n",
    "df_clean = df.apply(pd.to_numeric, errors='coerce')"
   ]
  },
  {
   "cell_type": "markdown",
   "metadata": {},
   "source": [
    "Let us see if that worked! We should now have only decimal and null values."
   ]
  },
  {
   "cell_type": "code",
   "execution_count": null,
   "metadata": {},
   "outputs": [],
   "source": [
    "# Number of null values\n",
    "print(df_clean.isnull().sum())\n",
    "\n",
    "# Actual null values\n",
    "df_clean[df_clean.isnull().any(axis=1)]\n"
   ]
  },
  {
   "cell_type": "markdown",
   "metadata": {},
   "source": [
    "Looks great we have 6 null values, 4 in num_major_vessels and 2 in thallium_scint as expected. We can also observe\n",
    "that none of the other fields contain any null values. Seeing as there are only a handful of these values and none\n",
    "in the response variable, it is not necessary to remove these records from the dataset at this stage.\n",
    "\n",
    "We now have a dataset with 303 records and 14 numeric fields, as per the data dictionary, there are still 6 missing\n",
    "values in the 'num_major_vessels' and 'thallium_scint' fields though. Due to the low number of missing values and even\n",
    "distribution of values in these fields (see explore analysis below) we will now substitute these with median values."
   ]
  },
  {
   "cell_type": "code",
   "execution_count": null,
   "metadata": {},
   "outputs": [],
   "source": [
    "df_fin = df_clean.copy()\n",
    "median = df_fin['num_major_vessels'].median()\n",
    "df_fin['num_major_vessels'].fillna(median, inplace=True)\n",
    "print(\"Number of null values in num_major_vessels column: {}\".format(df_fin['num_major_vessels'].isnull().sum()))\n",
    "\n",
    "median = df_fin['thallium_scint'].median()\n",
    "df_fin['thallium_scint'].fillna(median, inplace=True)\n",
    "print(\"Number of null values in thallium_scint column: {}\".format(df_fin['thallium_scint'].isnull().sum()))\n",
    "print(\"Dataframe dimension: {}\".format(df_fin.shape))"
   ]
  },
  {
   "cell_type": "markdown",
   "metadata": {},
   "source": [
    "Now our set is finally ready for further analysis. We will now look at the distribution of variables and any possible\n",
    "outliers or heavy tailed distributions."
   ]
  },
  {
   "cell_type": "markdown",
   "metadata": {},
   "source": [
    "<div class=\"alert alert-block alert-info\">\n",
    "<b>Explore data</b>\n",
    "</div>"
   ]
  },
  {
   "cell_type": "markdown",
   "metadata": {},
   "source": [
    "We start by looking at the number of unique records per variable. We start here as variables with too little variability\n",
    "will be discarded from the analysis."
   ]
  },
  {
   "cell_type": "code",
   "execution_count": 9,
   "metadata": {},
   "outputs": [
    {
     "ename": "NameError",
     "evalue": "name 'df_fin' is not defined",
     "output_type": "error",
     "traceback": [
      "\u001B[0;31m---------------------------------------------------------------------------\u001B[0m",
      "\u001B[0;31mNameError\u001B[0m                                 Traceback (most recent call last)",
      "Input \u001B[0;32mIn [9]\u001B[0m, in \u001B[0;36m<module>\u001B[0;34m\u001B[0m\n\u001B[0;32m----> 1\u001B[0m \u001B[38;5;28mprint\u001B[39m(\u001B[43mdf_fin\u001B[49m\u001B[38;5;241m.\u001B[39mnunique())\n",
      "\u001B[0;31mNameError\u001B[0m: name 'df_fin' is not defined"
     ]
    }
   ],
   "source": [
    "print(df_fin.nunique())"
   ]
  },
  {
   "cell_type": "markdown",
   "metadata": {},
   "source": [
    "There are no columns with only one value. We therefore retain all columns for ML purposes as there is enough\n",
    "variability to warrant using the data. There are many variables with fewer than 10 levels which could be considered\n",
    "as categorical. Based on our initial assessment of the data we will work with levels of measurement for the data as\n",
    "follows:\n",
    "\n",
    "- age (continuous)\n",
    "- sex (binary)\n",
    "- chest_pain_type (ordinal)\n",
    "- rest_blood_press (continuous)\n",
    "- cholesterol (continuous)\n",
    "- fasting_blood_sugar (binary)\n",
    "- rest_ecg (ordinal)\n",
    "- max_heart_rate (continuous)\n",
    "- exer_ind_angina (binary)\n",
    "- st_depression (continuous)\n",
    "- st_slope (ordinal)\n",
    "- num_major_vessels (ordinal)\n",
    "- thallium_scint (ordinal - needs reordering)\n",
    "- ca_disease (binary - we will need to transform as there are actually 5 levels in the data)\n",
    "\n",
    "At this point it seems as if the only nominal data is binary, which means we might not need any One Hot Encoding\n",
    "initially. We will leave the ordinal data as is for the initial analysis.\n",
    "\n",
    "It is important to note the large number binary and ordinal variables which indicates that the original continuous\n",
    "variables have in all likelihood been discretised by the original authors. This could possibly be revisited at a later\n",
    "later stage by considering the original data.\n",
    "\n",
    "Next we look at the distribution of the data."
   ]
  },
  {
   "cell_type": "markdown",
   "metadata": {},
   "source": [
    "We now extract data according levels of measurement first to ease analysis. We also rename the variables to enable\n",
    "ease of interpretation."
   ]
  },
  {
   "cell_type": "code",
   "execution_count": null,
   "metadata": {},
   "outputs": [],
   "source": [
    "# Extract categorical variables for analysis.\n",
    "df_fin_cat = df_fin.copy()\n",
    "names_cat = ('sex', 'chest_pain_type', 'fasting_blood_sugar', 'rest_ecg', 'exer_ind_angina', 'st_slope',\n",
    "             'num_major_vessels', 'thallium_scint', 'ca_disease')\n",
    "df_fin_cat = df_fin_cat.loc[:, names_cat]\n",
    "\n",
    "# Extract continuous variables for analysis.\n",
    "#df_fin.reset_index(drop=True, inplace=True)\n",
    "df_fin_con = df_fin.copy()\n",
    "names_con = ('age', 'rest_blood_press', 'cholesterol', 'max_heart_rate', 'st_depression')\n",
    "df_fin_con = df_fin_con.loc[:, names_con]\n",
    "\n",
    "# Plotting label dictionary\n",
    "plot_cat = [('sex', ['female', 'male']),\n",
    "              ('chest_pain_type', ['typical angina', 'atypical angina', 'non-anginal pain', 'asymptomatic']),\n",
    "              ('fasting_blood_sugar', ['fbs > 120mg', 'fbs < 120mg']),\n",
    "              ('rest_ecg', ['normal', 'ST T-wave', 'left ventricular']),\n",
    "              ('exer_ind_angina', ['yes', 'no']),\n",
    "              ('st_slope', ['upsloping', 'flat', 'downsloping']),\n",
    "              ('num_major_vessels', ['0', '1', '2', '3']),\n",
    "              ('thallium_scint', ['normal', 'fixed defect', 'reversible defect']),\n",
    "              ('ca_disease', ['No CA disease', 'CA disease'])]\n",
    "plot_con = [('age', 'age in years'),\n",
    "            ('rest_blood_press', 'blood pressure in mm Hg'),\n",
    "              ('cholesterol', 'serum cholesterol in mg/d'),\n",
    "              ('max_heart_rate', 'maximum heart rate achieved'),\n",
    "              ('st_depression', 'ST depression by exercise relative to rest'),\n",
    "              ('ca_disease', 'Coronary Artery disease')]\n",
    "\n",
    "# Extract numeric variables for analysis.\n",
    "df_fin.reset_index(drop=True, inplace=True)\n",
    "df_fin_num = df_fin.copy()\n",
    "names_num = ('age', 'sex', 'chest_pain_type', 'rest_blood_press', 'cholesterol', 'fasting_blood_sugar', 'rest_ecg',\n",
    "             'max_heart_rate', 'exer_ind_angina', 'st_depression', 'st_slope', 'num_major_vessels', 'thallium_scint',\n",
    "             'ca_disease')\n",
    "df_fin_num = df_fin_num.loc[:, names_num]"
   ]
  },
  {
   "cell_type": "markdown",
   "metadata": {},
   "source": [
    "We now consider the response variable."
   ]
  },
  {
   "cell_type": "code",
   "execution_count": null,
   "metadata": {},
   "outputs": [],
   "source": [
    "#outcome_counts = df_fin_cat.groupby('ca_disease').size()\n",
    "outcome_counts = df_fin_cat['ca_disease'].value_counts()\n",
    "print(outcome_counts)\n",
    "\n",
    "# Plot outcome counts.\n",
    "ax = sns.barplot(x=outcome_counts.index, y=outcome_counts.values, alpha=0.9)\n",
    "ax.xaxis.label.set_size(20)\n",
    "ax.yaxis.label.set_size(20)\n",
    "#ax.title.set_size(45)\n",
    "ax.tick_params('y', labelsize = 20);\n",
    "ax.tick_params('x', labelsize = 20);\n",
    "plt.title('Frequency Distribution of Outcomes', fontsize=20)\n",
    "plt.ylabel('Number of Occurrences')\n",
    "plt.xlabel('Outcome')\n",
    "plt.show();"
   ]
  },
  {
   "cell_type": "markdown",
   "metadata": {},
   "source": [
    "The spread of the data is good for classification, as there are a large number of positive cases. If one combines\n",
    "classes 1, 2, 3 and 4 as suggested there will be a fairly even split between positive and negative outcomes. Let\n",
    "us confirm if this is the case."
   ]
  },
  {
   "cell_type": "code",
   "execution_count": 10,
   "metadata": {},
   "outputs": [
    {
     "ename": "NameError",
     "evalue": "name 'df_fin' is not defined",
     "output_type": "error",
     "traceback": [
      "\u001B[0;31m---------------------------------------------------------------------------\u001B[0m",
      "\u001B[0;31mNameError\u001B[0m                                 Traceback (most recent call last)",
      "Input \u001B[0;32mIn [10]\u001B[0m, in \u001B[0;36m<module>\u001B[0;34m\u001B[0m\n\u001B[1;32m      1\u001B[0m \u001B[38;5;66;03m# Transform y variable\u001B[39;00m\n\u001B[0;32m----> 2\u001B[0m df_fin_cat[\u001B[38;5;124m'\u001B[39m\u001B[38;5;124mnum_bin\u001B[39m\u001B[38;5;124m'\u001B[39m] \u001B[38;5;241m=\u001B[39m \u001B[43mdf_fin\u001B[49m[\u001B[38;5;124m'\u001B[39m\u001B[38;5;124mca_disease\u001B[39m\u001B[38;5;124m'\u001B[39m]\u001B[38;5;241m.\u001B[39mapply(\u001B[38;5;28;01mlambda\u001B[39;00m x: \u001B[38;5;241m1\u001B[39m \u001B[38;5;28;01mif\u001B[39;00m x \u001B[38;5;241m>\u001B[39m \u001B[38;5;241m0\u001B[39m \u001B[38;5;28;01melse\u001B[39;00m \u001B[38;5;241m0\u001B[39m)\n\u001B[1;32m      4\u001B[0m c \u001B[38;5;241m=\u001B[39m df_fin_cat\u001B[38;5;241m.\u001B[39mnum_bin\u001B[38;5;241m.\u001B[39mvalue_counts(dropna\u001B[38;5;241m=\u001B[39m\u001B[38;5;28;01mFalse\u001B[39;00m)\n\u001B[1;32m      5\u001B[0m p \u001B[38;5;241m=\u001B[39m df_fin_cat\u001B[38;5;241m.\u001B[39mnum_bin\u001B[38;5;241m.\u001B[39mvalue_counts(dropna\u001B[38;5;241m=\u001B[39m\u001B[38;5;28;01mFalse\u001B[39;00m, normalize\u001B[38;5;241m=\u001B[39m\u001B[38;5;28;01mTrue\u001B[39;00m)\n",
      "\u001B[0;31mNameError\u001B[0m: name 'df_fin' is not defined"
     ]
    }
   ],
   "source": [
    "# Transform y variable\n",
    "df_fin_cat['num_bin'] = df_fin['ca_disease'].apply(lambda x: 1 if x > 0 else 0)\n",
    "\n",
    "c = df_fin_cat.num_bin.value_counts(dropna=False)\n",
    "p = df_fin_cat.num_bin.value_counts(dropna=False, normalize=True)\n",
    "output = pd.concat([c,p], axis=1, keys=['counts', '%'])\n",
    "print(output)\n",
    "\n",
    "ax = sns.barplot(x=p.index, y=p.values)\n",
    "ax.xaxis.label.set_size(20)\n",
    "ax.yaxis.label.set_size(20)\n",
    "#ax.title.set_size(45)\n",
    "ax.tick_params('y', labelsize = 20);\n",
    "ax.tick_params('x', labelsize = 20);\n",
    "plt.title('Frequency Distribution of Outcomes', fontsize = 20)\n",
    "plt.ylabel('Number of Occurrences')\n",
    "plt.xlabel('Outcome')\n",
    "plt.show();"
   ]
  },
  {
   "cell_type": "markdown",
   "metadata": {},
   "source": [
    "As expected, the distribution of positive and negative values is balanced with 46% of values denoting a positive\n",
    "outcome. It is therefore very unlikely that we would need to make allowance for imbalanced classes (by resampling,\n",
    "boosting or using an alternative ML algorithm such as Boosting) as there is a sufficiently large proportion of\n",
    "positive outcomes. The sample size of this dataset is however very small i.e. 303, so we will revisit this assumption\n",
    "once we have done some accuracy testing.\n",
    "\n",
    "Let us consider the categorical variables."
   ]
  },
  {
   "cell_type": "code",
   "execution_count": null,
   "metadata": {},
   "outputs": [],
   "source": [
    "# Class level counts for categorical variables.\n",
    "for variable in names_cat:\n",
    "    print(df_fin_cat[variable].value_counts())"
   ]
  },
  {
   "cell_type": "code",
   "execution_count": null,
   "metadata": {},
   "outputs": [],
   "source": [
    "# Bar chart plot of categorical variables.\n",
    "fig, ax = plt.subplots(3, 3, figsize=(25, 20));\n",
    "for variable, subplot in zip(names_cat, ax.flatten()):\n",
    "    subplot.xaxis.label.set_size(34)\n",
    "    subplot.yaxis.label.set_size(34)\n",
    "    subplot.tick_params('y', labelsize = 30);\n",
    "    subplot.tick_params('x', labelsize = 30);\n",
    "    cp = sns.countplot(x=df_fin_cat[variable], ax=subplot);\n",
    "plt.tight_layout()"
   ]
  },
  {
   "cell_type": "markdown",
   "metadata": {},
   "source": [
    "The data looks fine from a modelling perspective as there are no variables with empty classes. We picked up from the\n",
    "data dictionary that the 'thallium_scint' variable needs to be recoded due to incorrect labelling i.e. the order\n",
    "does not result in an increasing ordinal value.\n",
    "\n",
    "It is interesting to note that there are ~30% females and ~60% males. The distribution of chest pain also seems\n",
    "increase in a linear fashion for this population, with the largest portion of the population suffering from severe\n",
    "chest pain.\n",
    "\n",
    "Next, let us consider the continuous variables. We start by looking at age patterns."
   ]
  },
  {
   "cell_type": "code",
   "execution_count": null,
   "metadata": {},
   "outputs": [],
   "source": [
    "# Continuous density plot\n",
    "df_fin_num['ca_disease'] = df_fin_num['ca_disease'].apply(lambda x: 1 if x > 0 else 0)\n",
    "\n",
    "fig_age, axes = plt.subplots(nrows=1, ncols=1, figsize=(10, 6), squeeze=False)\n",
    "_ = plotAge(df=df_fin_num, axes=axes, single_plot=True);"
   ]
  },
  {
   "cell_type": "markdown",
   "metadata": {},
   "source": [
    "It is clear that individuals suffering from coronary artery disease have a higher average age."
   ]
  },
  {
   "cell_type": "code",
   "execution_count": null,
   "metadata": {},
   "outputs": [],
   "source": [
    "# 5 number summary.\n",
    "df_fin_con.describe()"
   ]
  },
  {
   "cell_type": "code",
   "execution_count": null,
   "metadata": {},
   "outputs": [],
   "source": [
    "# Continuous density plot\n",
    "#df_fin_num['ca_disease'] = df_fin_num['ca_disease'].apply(lambda x: 1 if x > 0 else 0)\n",
    "\n",
    "fig_continuous, axes = plt.subplots(nrows=len(plot_con)-1, ncols=2, figsize=(15, 22))\n",
    "_ = plotVar(isCategorical=False, categorical = plot_cat, continuous = plot_con, df=df_fin_num, axes=axes);"
   ]
  },
  {
   "cell_type": "markdown",
   "metadata": {},
   "source": [
    "The violin plots demonstrate that the distributions for age, maximum HR and ST depression differ between individuals\n",
    "with and those without ca disease, whereas there is little difference in the distributions for resting BP and\n",
    "cholesterol.\n",
    "\n",
    "The violin plot for age against coronary artery disease demonstrates that the age of individuals without ca disease is\n",
    "evenly spread between the ages of 40 and 65, with some younger patients below the age of 30, whereas individuals with\n",
    "ca disease are mostly older, with a median age of approx 60 and few, if any, below 30 years of age.\n",
    "\n",
    "The median maximum HR for individuals without ca disease is higher (\\~160) than for individuals with ca disease (\\~150),\n",
    "with a narrower distribution around the mean, whereas individuals with ca disease have a skewed distribution towards\n",
    "lower maximum HR, with a larger proportion having max HR below 100 than healthy individuals.\n",
    "\n",
    "The distribution for ST depression is starkly different, with individuals without ca disease having a median ST\n",
    "depression of 0, with a narrow distribution around the mean, and a small proportion having ST depression between 1 and 2.\n",
    "\n",
    "In contrast, individuals with ca disease follow a broader distribution around a median of ~1.5, with a substantial\n",
    "proportion of individuals with ST depression >2. Resting blood pressure and cholesterol do not appear to be\n",
    "significantly different between patients with and without ca disease, with both groups having similar median resting\n",
    "BP (around 125mmHg) and cholesterol (200-250) and roughly even spread around the point estimates. A small number of\n",
    "individuals with ca disease have much higher resting BP of >200, whereas none of those without ca disease have a\n",
    "resting BP >200. However, this may not be statistically significant. Interestingly, some individuals without ca disease\n",
    "have very high cholesterol (500-600).\n"
   ]
  },
  {
   "cell_type": "code",
   "execution_count": 11,
   "metadata": {},
   "outputs": [
    {
     "ename": "NameError",
     "evalue": "name 'names_con' is not defined",
     "output_type": "error",
     "traceback": [
      "\u001B[0;31m---------------------------------------------------------------------------\u001B[0m",
      "\u001B[0;31mNameError\u001B[0m                                 Traceback (most recent call last)",
      "Input \u001B[0;32mIn [11]\u001B[0m, in \u001B[0;36m<module>\u001B[0;34m\u001B[0m\n\u001B[0;32m----> 1\u001B[0m \u001B[38;5;28;01mfor\u001B[39;00m variable \u001B[38;5;129;01min\u001B[39;00m \u001B[43mnames_con\u001B[49m:\n\u001B[1;32m      2\u001B[0m     skew \u001B[38;5;241m=\u001B[39m df_fin_con[variable]\u001B[38;5;241m.\u001B[39mskew()\n\u001B[1;32m      3\u001B[0m     \u001B[38;5;28mprint\u001B[39m(\u001B[38;5;124m\"\u001B[39m\u001B[38;5;124mSkewness value for \u001B[39m\u001B[38;5;132;01m{}\u001B[39;00m\u001B[38;5;124m: \u001B[39m\u001B[38;5;132;01m{}\u001B[39;00m\u001B[38;5;124m\"\u001B[39m\u001B[38;5;241m.\u001B[39mformat(variable, skew))\n",
      "\u001B[0;31mNameError\u001B[0m: name 'names_con' is not defined"
     ]
    }
   ],
   "source": [
    "for variable in names_con:\n",
    "    skew = df_fin_con[variable].skew()\n",
    "    print(\"Skewness value for {}: {}\".format(variable, skew))\n"
   ]
  },
  {
   "cell_type": "code",
   "execution_count": null,
   "metadata": {},
   "outputs": [],
   "source": [
    "# Boxplot of continuous variables\n",
    "medianprops = {'color': 'magenta', 'linewidth': 2}\n",
    "boxprops = {'color': 'black', 'linestyle': '-', 'linewidth': 4}\n",
    "whiskerprops = {'color': 'black', 'linestyle': '-', 'linewidth': 4}\n",
    "capprops = {'color': 'black', 'linestyle': '-', 'linewidth': 4}\n",
    "flierprops = {'color': 'black', 'marker': 'x', 'markersize': 25}\n",
    "\n",
    "_ = df_fin_con.plot(kind='box', subplots=True, figsize=(35, 25), layout=(2,3), fontsize = 50, medianprops=medianprops,\n",
    "                    boxprops=boxprops, whiskerprops=whiskerprops, capprops=capprops, flierprops=flierprops);\n",
    "\n",
    "_ = plt.tight_layout();\n",
    "_ = plt.show();"
   ]
  },
  {
   "cell_type": "markdown",
   "metadata": {},
   "source": [
    "Similar observations to those made for the density and violin plots. We are dealing with an older population here\n",
    "with average age of 54 years old. There are a few outliers for high resting blood pressure with the distribution\n",
    "showing a slight skew to the right. Likewise for cholesterol and st_depression, with these two showing even higher\n",
    "skewness. Conversely max_heart_rate has outliers to left and slight skewness to left too. This makes sense,\n",
    "as higher values for the prior could indicate poorer health, whereas lower values for max_heart_rate could indicate\n",
    "poorer health, as observed in the violin plots.\n",
    "\n",
    "The distributions of the feature variables have varying scales, so standardisation would be required for ML purposes.\n",
    "For regression, normalisation might improve outcomes (for this investigation we will however not perform normalisatoin).\n",
    "Investigation into outliers is recommended as it might reveal interesting facts and would improve the model performance\n",
    "if outliers were addressed.\n"
   ]
  },
  {
   "cell_type": "markdown",
   "metadata": {},
   "source": [
    "<div class=\"alert alert-block alert-info\">\n",
    "<b>Build Naive Model - Baseline</b>\n",
    "</div>"
   ]
  },
  {
   "cell_type": "markdown",
   "metadata": {},
   "source": [
    "Our first objective is to obtain a baseline measure of the strength of association between all the variables and the\n",
    "outcome. For this, we will build a basic Logistic Regression model, without transforming or scaling any of the\n",
    "variables.\n",
    "\n",
    "We start by splitting the response and the features."
   ]
  },
  {
   "cell_type": "code",
   "execution_count": null,
   "metadata": {},
   "outputs": [],
   "source": [
    "# Transform y variable\n",
    "df_fin['ca_disease'] = df_fin['ca_disease'].apply(lambda x: 1 if x > 0 else 0)\n",
    "\n",
    "# Copy original dataset\n",
    "df_fin_nn = df_fin.copy()\n",
    "\n",
    "# Group response values to form binary response\n",
    "y = df_fin_nn.loc[:, 'ca_disease']\n",
    "\n",
    "# Split data into features (X) and response (y)\n",
    "X = df_fin_nn.loc[:, ('age', 'sex', 'chest_pain_type', 'rest_blood_press', 'cholesterol', 'fasting_blood_sugar', 'rest_ecg', 'max_heart_rate', 'exer_ind_angina', 'st_depression', 'st_slope',\n",
    "                   'num_major_vessels', 'thallium_scint')]\n",
    "\n",
    "X.head()\n",
    "\n",
    "# Put the response y into an array\n",
    "y = np.ravel(y)"
   ]
  },
  {
   "cell_type": "markdown",
   "metadata": {},
   "source": [
    "Split the data into training and test sets"
   ]
  },
  {
   "cell_type": "code",
   "execution_count": 12,
   "metadata": {},
   "outputs": [
    {
     "ename": "NameError",
     "evalue": "name 'X' is not defined",
     "output_type": "error",
     "traceback": [
      "\u001B[0;31m---------------------------------------------------------------------------\u001B[0m",
      "\u001B[0;31mNameError\u001B[0m                                 Traceback (most recent call last)",
      "Input \u001B[0;32mIn [12]\u001B[0m, in \u001B[0;36m<module>\u001B[0;34m\u001B[0m\n\u001B[0;32m----> 1\u001B[0m X_train_init, X_test_init, y_train_init, y_test_init \u001B[38;5;241m=\u001B[39m train_test_split(\u001B[43mX\u001B[49m, y, random_state\u001B[38;5;241m=\u001B[39m\u001B[38;5;241m0\u001B[39m)\n",
      "\u001B[0;31mNameError\u001B[0m: name 'X' is not defined"
     ]
    }
   ],
   "source": [
    "X_train_init, X_test_init, y_train_init, y_test_init = train_test_split(X, y, random_state=0)"
   ]
  },
  {
   "cell_type": "code",
   "execution_count": null,
   "metadata": {},
   "outputs": [],
   "source": [
    "print('Percentage holdout data: {}%'.format(round(100*(len(X_test_init)/len(X)),0)))"
   ]
  },
  {
   "cell_type": "markdown",
   "metadata": {},
   "source": [
    "We now build and test a naive logistic regression model - without any transformations or optimisations."
   ]
  },
  {
   "cell_type": "code",
   "execution_count": null,
   "metadata": {},
   "outputs": [],
   "source": [
    "# Initial model\n",
    "logreg = LogisticRegression(max_iter=2000000, fit_intercept = False)\n",
    "\n",
    "# Probability scores for test set\n",
    "y_score_init = logreg.fit(X_train_init, y_train_init).decision_function(X_test_init)\n",
    "\n",
    "# False positive Rate and true positive rate\n",
    "fpr_roc, tpr_roc, thresholds = roc_curve(y_test_init, y_score_init)\n",
    "\n",
    "plot_roc_curve(fpr = fpr_roc, tpr = tpr_roc)"
   ]
  },
  {
   "cell_type": "code",
   "execution_count": null,
   "metadata": {},
   "outputs": [],
   "source": [
    "y_pred = logreg.predict(X_test_init)\n",
    "# Accuracy before model parameter optimisation\n",
    "cnf_matrix = confusion_matrix(y_pred, y_test_init)\n",
    "plot_confusion_matrix(cnf_matrix, classes=[0,1], normalize=True)\n"
   ]
  },
  {
   "cell_type": "markdown",
   "metadata": {},
   "source": [
    "As can be seen from the accuracy measurements the baseline model performs very well. A C-statistic of 87% on data that\n",
    "has not been scaled or transformed is a very good result. This result confirms our EDA outcomes which showed\n",
    "correlation between age and the continuous variables and the outcome variable. Based on this result it is evident\n",
    "that this correlation is strong for at least a few of the variables.\n",
    "\n",
    "We will now investigate this correlation further, but first, we will transform and scale the variables to see whether\n",
    "we can improve the accuracy obtained by the naive modelling approach."
   ]
  },
  {
   "cell_type": "markdown",
   "metadata": {},
   "source": [
    "<div class=\"alert alert-block alert-info\">\n",
    "<b>Build Logistic Regression - Release 1</b>\n",
    "</div>\n"
   ]
  },
  {
   "cell_type": "markdown",
   "metadata": {},
   "source": [
    "We now scale and transform variables to obtain a very basic improvement on the naive model. We will not perform\n",
    "extensive feature engineering or advanced hyper-parameter tuning at this stage."
   ]
  },
  {
   "cell_type": "code",
   "execution_count": 13,
   "metadata": {},
   "outputs": [
    {
     "ename": "NameError",
     "evalue": "name 'df_fin' is not defined",
     "output_type": "error",
     "traceback": [
      "\u001B[0;31m---------------------------------------------------------------------------\u001B[0m",
      "\u001B[0;31mNameError\u001B[0m                                 Traceback (most recent call last)",
      "Input \u001B[0;32mIn [13]\u001B[0m, in \u001B[0;36m<module>\u001B[0;34m\u001B[0m\n\u001B[1;32m      1\u001B[0m \u001B[38;5;66;03m# Transform thallium_scint variable\u001B[39;00m\n\u001B[1;32m      2\u001B[0m trans_thal \u001B[38;5;241m=\u001B[39m {\u001B[38;5;241m3\u001B[39m:\u001B[38;5;241m0\u001B[39m, \u001B[38;5;241m7\u001B[39m:\u001B[38;5;241m1\u001B[39m, \u001B[38;5;241m6\u001B[39m:\u001B[38;5;241m2\u001B[39m}\n\u001B[0;32m----> 3\u001B[0m df_fin_nn \u001B[38;5;241m=\u001B[39m \u001B[43mdf_fin\u001B[49m\u001B[38;5;241m.\u001B[39mreplace({\u001B[38;5;124m\"\u001B[39m\u001B[38;5;124mthallium_scint\u001B[39m\u001B[38;5;124m\"\u001B[39m: trans_thal})\n\u001B[1;32m      4\u001B[0m feature_names \u001B[38;5;241m=\u001B[39m (\u001B[38;5;124m'\u001B[39m\u001B[38;5;124mage\u001B[39m\u001B[38;5;124m'\u001B[39m, \u001B[38;5;124m'\u001B[39m\u001B[38;5;124msex\u001B[39m\u001B[38;5;124m'\u001B[39m, \u001B[38;5;124m'\u001B[39m\u001B[38;5;124mchest_pain_type\u001B[39m\u001B[38;5;124m'\u001B[39m, \u001B[38;5;124m'\u001B[39m\u001B[38;5;124mrest_blood_press\u001B[39m\u001B[38;5;124m'\u001B[39m, \u001B[38;5;124m'\u001B[39m\u001B[38;5;124mcholesterol\u001B[39m\u001B[38;5;124m'\u001B[39m, \u001B[38;5;124m'\u001B[39m\u001B[38;5;124mfasting_blood_sugar\u001B[39m\u001B[38;5;124m'\u001B[39m, \u001B[38;5;124m'\u001B[39m\u001B[38;5;124mrest_ecg\u001B[39m\u001B[38;5;124m'\u001B[39m,\n\u001B[1;32m      5\u001B[0m                  \u001B[38;5;124m'\u001B[39m\u001B[38;5;124mmax_heart_rate\u001B[39m\u001B[38;5;124m'\u001B[39m, \u001B[38;5;124m'\u001B[39m\u001B[38;5;124mexer_ind_angina\u001B[39m\u001B[38;5;124m'\u001B[39m, \u001B[38;5;124m'\u001B[39m\u001B[38;5;124mst_depression\u001B[39m\u001B[38;5;124m'\u001B[39m, \u001B[38;5;124m'\u001B[39m\u001B[38;5;124mst_slope\u001B[39m\u001B[38;5;124m'\u001B[39m, \u001B[38;5;124m'\u001B[39m\u001B[38;5;124mnum_major_vessels\u001B[39m\u001B[38;5;124m'\u001B[39m, \u001B[38;5;124m'\u001B[39m\u001B[38;5;124mthallium_scint\u001B[39m\u001B[38;5;124m'\u001B[39m)\n\u001B[1;32m      7\u001B[0m \u001B[38;5;66;03m# Re-extract transformed X features\u001B[39;00m\n",
      "\u001B[0;31mNameError\u001B[0m: name 'df_fin' is not defined"
     ]
    }
   ],
   "source": [
    "# Transform thallium_scint variable\n",
    "trans_thal = {3:0, 7:1, 6:2}\n",
    "df_fin_nn = df_fin.replace({\"thallium_scint\": trans_thal})\n",
    "feature_names = ('age', 'sex', 'chest_pain_type', 'rest_blood_press', 'cholesterol', 'fasting_blood_sugar', 'rest_ecg',\n",
    "                 'max_heart_rate', 'exer_ind_angina', 'st_depression', 'st_slope', 'num_major_vessels', 'thallium_scint')\n",
    "\n",
    "# Re-extract transformed X features\n",
    "X = df_fin_nn.loc[:, feature_names]\n",
    "\n",
    "# Rebuild training and testing sets\n",
    "X_train, X_test, y_train, y_test = train_test_split(X, y, random_state=0)\n",
    "\n",
    "# Create variables for Random Forest model\n",
    "X_train_rf = X_train.copy()\n",
    "X_test_rf = X_test.copy()\n",
    "y_train_rf = y_train.copy()\n",
    "y_test_rf = y_test.copy()\n",
    "\n",
    "# Scale data\n",
    "scaler = StandardScaler()\n",
    "\n",
    "# Fit on training data set\n",
    "scaler.fit(X_train)\n",
    "X_train = scaler.transform(X_train)\n",
    "\n",
    "# Apply to test data\n",
    "X_test = scaler.transform(X_test)\n"
   ]
  },
  {
   "cell_type": "markdown",
   "metadata": {},
   "source": [
    "We now build a logistic regression model with data scaled and transformed."
   ]
  },
  {
   "cell_type": "code",
   "execution_count": null,
   "metadata": {},
   "outputs": [],
   "source": [
    "# Initial model\n",
    "logreg = LogisticRegression(fit_intercept = False)\n",
    "\n",
    "# Probability scores for test set\n",
    "y_score = logreg.fit(X_train, y_train).decision_function(X_test)\n",
    "\n",
    "# False positive Rate and true positive rate\n",
    "fpr_roc, tpr_roc, thresholds = roc_curve(y_test, y_score)\n",
    "\n",
    "plot_roc_curve(fpr = fpr_roc, tpr = tpr_roc)"
   ]
  },
  {
   "cell_type": "code",
   "execution_count": null,
   "metadata": {},
   "outputs": [],
   "source": [
    "y_pred = logreg.predict(X_test)\n",
    "# Accuracy before model parameter optimisation\n",
    "cnf_matrix = confusion_matrix(y_pred, y_test)\n",
    "plot_confusion_matrix(cnf_matrix, classes=[0,1], normalize=True)"
   ]
  },
  {
   "cell_type": "markdown",
   "metadata": {},
   "source": [
    "After scaling and transforming the data, we observe a modest improvement in the accuracy of the model. Although\n",
    "accuracy in itself probably does not warrant the transformation and scaling, model performance in terms of\n",
    "convergence has improved by an order of magnitude as number of iterations required before convergence was previously\n",
    "larger than 1000,000 and after the data has been scaled number of iterations reduced to less than 100,0000.\n",
    "This is an encouraging result as it shows the model now captures the signal in the data without the need for excessive\n",
    "computation which will allow us to use more complex models to improve accuracy.\n",
    "\n",
    "The objective of this study is however not to maximise accuracy, but to find correlation between predictors and the\n",
    "response. Therefore we turn our attention now to study variable correlations."
   ]
  },
  {
   "cell_type": "markdown",
   "metadata": {},
   "source": [
    "<div class=\"alert alert-block alert-info\">\n",
    "<b>Build Logistic Regression - Release 2</b>\n",
    "</div>"
   ]
  },
  {
   "cell_type": "markdown",
   "metadata": {},
   "source": [
    "We now perform feature selection in order to ascertain whether a smaller parsimonious model could be built with fewer\n",
    "variables. As per the article by (Detrano et al., 1989) this could be useful from a practical perspective as not all\n",
    "healthcare settings have all the variables to their disposal which necessitates the deployment of several complex\n",
    "predictive models which is not practical from an operational perspective.\n",
    "\n",
    "We will first perform correlation and regression tests on the data. These tests are best performed by considering\n",
    "continuous and categoric variables separately due to the intrinsic difference in regression coefficient values\n",
    "for these variables. We will then perform a few numeric methods on the full dataset and compare results.\n",
    "\n",
    "We start by considering the continuous variables."
   ]
  },
  {
   "cell_type": "code",
   "execution_count": 14,
   "metadata": {},
   "outputs": [
    {
     "ename": "NameError",
     "evalue": "name 'df_fin_con' is not defined",
     "output_type": "error",
     "traceback": [
      "\u001B[0;31m---------------------------------------------------------------------------\u001B[0m",
      "\u001B[0;31mNameError\u001B[0m                                 Traceback (most recent call last)",
      "Input \u001B[0;32mIn [14]\u001B[0m, in \u001B[0;36m<module>\u001B[0;34m\u001B[0m\n\u001B[1;32m      1\u001B[0m \u001B[38;5;66;03m# Pearson correlation plot.\u001B[39;00m\n\u001B[0;32m----> 2\u001B[0m correlations \u001B[38;5;241m=\u001B[39m \u001B[43mdf_fin_con\u001B[49m\u001B[38;5;241m.\u001B[39mcorr()\n\u001B[1;32m      3\u001B[0m \u001B[38;5;66;03m# Plot correlation matrix\u001B[39;00m\n\u001B[1;32m      4\u001B[0m \u001B[38;5;66;03m#sns.set(font_scale=1);\u001B[39;00m\n\u001B[1;32m      5\u001B[0m fig \u001B[38;5;241m=\u001B[39m plt\u001B[38;5;241m.\u001B[39mfigure(figsize\u001B[38;5;241m=\u001B[39m(\u001B[38;5;241m15\u001B[39m, \u001B[38;5;241m15\u001B[39m))\n",
      "\u001B[0;31mNameError\u001B[0m: name 'df_fin_con' is not defined"
     ]
    }
   ],
   "source": [
    "# Pearson correlation plot.\n",
    "correlations = df_fin_con.corr()\n",
    "# Plot correlation matrix\n",
    "#sns.set(font_scale=1);\n",
    "fig = plt.figure(figsize=(15, 15))\n",
    "ax = sns.heatmap(correlations, annot=True, linewidths = 0, vmin=-.5, cmap='pink_r')\n",
    "ax.xaxis.label.set_size(15)\n",
    "ax.yaxis.label.set_size(15)\n",
    "#ax.title.set_size(45)\n",
    "ax.tick_params('y', labelsize = 15, labelrotation=0);\n",
    "ax.tick_params('x', labelsize = 15);"
   ]
  },
  {
   "cell_type": "markdown",
   "metadata": {},
   "source": [
    "We see that there is a very strong inverse correlation between maximum heart rate and age. This makes sense as one's\n",
    "maximum heart typically decreases with age. Similarly there is a strong inverse correlation between max_heart_rate and\n",
    "st_depression. This makes sense as a lower max_heart_rate is likely to indicate poorer health and could therefore be\n",
    "correlated with a greater st_depression.\n",
    "\n",
    "We also see that there is a strong positive correlation between maximum heart rate and both cholesterol and resting\n",
    "blood pressure. High blood pressure and cholesterol are typically indications of poor health which would result\n",
    "in lower maximum heart rate.\n",
    "\n",
    "Another observation of interest is the strong correlation between cholesterol and age. These variables could make\n",
    "strong combined predictors for a next iteration of the model."
   ]
  },
  {
   "cell_type": "markdown",
   "metadata": {},
   "source": [
    "The first method we use is to compare the relative importance of feature variables is that of Logistic Regression.\n",
    "We will consider the regression coefficient values for all our continuous variables. Scikit-learn does not\n",
    "implement feature importance measures for logistic regression. We therefore make use of the statsmodel libraries\n",
    "implementation. There is no option for a Univariate test, so we will first perform a multivariate analysis.\n",
    "We will thereafter make use of the mlextend library to perform a Univariate Logistic Regression test."
   ]
  },
  {
   "cell_type": "code",
   "execution_count": null,
   "metadata": {},
   "outputs": [],
   "source": [
    "# Extract continuous and categorical variables for analysis.\n",
    "X_con = df_fin_con.copy()\n",
    "X_cat = df_fin_cat.loc[:,('sex', 'chest_pain_type', 'fasting_blood_sugar', 'rest_ecg', 'exer_ind_angina', 'st_slope', 'num_major_vessels', 'thallium_scint')]\n",
    "\n",
    "X_train_con, X_test_con, y_train_con, y_test_con = train_test_split(X_con, y, random_state=0)\n",
    "X_train_cat, X_test_cat, y_train_cat, y_test_cat = train_test_split(X_cat, y, random_state=0)\n",
    "\n",
    "log_reg = sm.Logit(y_train_con, X_train_con)\n",
    "log_result = log_reg.fit()\n",
    "\n",
    "print(log_result.summary2())\n",
    "features_con = np.array(names_con)\n",
    "plot_feature_importance_log(fit = log_result, features = features_con)"
   ]
  },
  {
   "cell_type": "markdown",
   "metadata": {},
   "source": [
    "From this analysis it can be seen that the only variables of significance are max_heart_rate and st_depression.\n",
    "The remainder of the variables will be rejected based on their coefficient sizes.\n",
    "\n",
    "Now we perform a univariate comparison between all the features. We use the mlxtend library for this. We fit a\n",
    "Logistic regression model to each variable in turn and study the accuracy obtained."
   ]
  },
  {
   "cell_type": "code",
   "execution_count": null,
   "metadata": {},
   "outputs": [],
   "source": [
    "logval = LogisticRegression(fit_intercept = False)\n",
    "\n",
    "efs1 = EFS(logval,\n",
    "           min_features=1,\n",
    "           max_features=1,\n",
    "           scoring='accuracy',\n",
    "           print_progress=True,\n",
    "           cv=5)\n",
    "\n",
    "efs1 = efs1.fit(X_train, y_train, custom_feature_names=feature_names)\n",
    "\n",
    "print('Best accuracy score: %.2f' % efs1.best_score_)\n",
    "print('Best subset (indices):', efs1.best_idx_)\n",
    "print('Best subset (corresponding names):', efs1.best_feature_names_)\n",
    "\n",
    "#efs1 = efs1.fit(X, y, custom_feature_names=feature_names)\n",
    "\n",
    "df_efs = pd.DataFrame.from_dict(efs1.get_metric_dict()).T\n",
    "df_efs.sort_values('avg_score', inplace=True, ascending=False)\n",
    "\n",
    "metric_dict = efs1.get_metric_dict()\n",
    "\n",
    "fig = plt.figure()\n",
    "k_feat = sorted(metric_dict.keys())\n",
    "avg = [metric_dict[k]['avg_score'] for k in k_feat]\n",
    "\n",
    "upper, lower = [], []\n",
    "for k in k_feat:\n",
    "    upper.append(metric_dict[k]['avg_score'] +\n",
    "                 metric_dict[k]['std_dev'])\n",
    "    lower.append(metric_dict[k]['avg_score'] -\n",
    "                 metric_dict[k]['std_dev'])\n",
    "\n",
    "plt.fill_between(k_feat,\n",
    "                 upper,\n",
    "                 lower,\n",
    "                 alpha=0.2,\n",
    "                 color='blue',\n",
    "                 lw=1)\n",
    "\n",
    "_ = plt.plot(k_feat, avg, color='blue', marker='o');\n",
    "_ = plt.ylabel('Accuracy +/- Standard Deviation', size = 15)\n",
    "_ = plt.xlabel('Feature', size = 15)\n",
    "feature_min = len(metric_dict[k_feat[0]]['feature_idx'])\n",
    "feature_max = len(metric_dict[k_feat[-1]]['feature_idx'])\n",
    "_ = plt.xticks(k_feat,\n",
    "           [str(metric_dict[k]['feature_names']) for k in k_feat],\n",
    "           rotation=90, size = 15)\n",
    "_ = plt.yticks(size = 15)\n",
    "plt.show();\n",
    "\n",
    "df_efs"
   ]
  },
  {
   "cell_type": "markdown",
   "metadata": {},
   "source": [
    "From this analysis we can see that there are a large number of very strong predictors in this set of variables.\n",
    "thallium_scint scores 77% for accuracy and has the smallest confidence interval. exer_ind_angina and num_major_vessels\n",
    "similarly have high accuracy and small confidence intervals. chest_pain_type and max_heart_rate also have very high\n",
    "accuracy scores.\n",
    "\n",
    "Next we will however make use of scikit-learn's native feature extraction methods - which also allow for Univariate\n",
    "tests. The Uni-variate Anova test on continuous variables as implemented in SelectKBest function 'f_classif' will\n",
    "be used. Let's see what the results are."
   ]
  },
  {
   "cell_type": "code",
   "execution_count": 15,
   "metadata": {},
   "outputs": [
    {
     "ename": "NameError",
     "evalue": "name 'X_train_con' is not defined",
     "output_type": "error",
     "traceback": [
      "\u001B[0;31m---------------------------------------------------------------------------\u001B[0m",
      "\u001B[0;31mNameError\u001B[0m                                 Traceback (most recent call last)",
      "Input \u001B[0;32mIn [15]\u001B[0m, in \u001B[0;36m<module>\u001B[0;34m\u001B[0m\n\u001B[1;32m      1\u001B[0m \u001B[38;5;66;03m# Feature extraction set to retain all - we want to see scores for all variables.\u001B[39;00m\n\u001B[1;32m      2\u001B[0m test \u001B[38;5;241m=\u001B[39m SelectKBest(score_func\u001B[38;5;241m=\u001B[39mf_classif, k\u001B[38;5;241m=\u001B[39m\u001B[38;5;241m5\u001B[39m)\n\u001B[0;32m----> 3\u001B[0m fit_kbest \u001B[38;5;241m=\u001B[39m test\u001B[38;5;241m.\u001B[39mfit(\u001B[43mX_train_con\u001B[49m, y_train_con)\n\u001B[1;32m      4\u001B[0m features_kbest \u001B[38;5;241m=\u001B[39m np\u001B[38;5;241m.\u001B[39marray(X_con\u001B[38;5;241m.\u001B[39mcolumns)\n\u001B[1;32m      5\u001B[0m plot_feature_importance(fit \u001B[38;5;241m=\u001B[39m fit_kbest, features \u001B[38;5;241m=\u001B[39m features_kbest)\n",
      "\u001B[0;31mNameError\u001B[0m: name 'X_train_con' is not defined"
     ]
    }
   ],
   "source": [
    "# Feature extraction set to retain all - we want to see scores for all variables.\n",
    "test = SelectKBest(score_func=f_classif, k=5)\n",
    "fit_kbest = test.fit(X_train_con, y_train_con)\n",
    "features_kbest = np.array(X_con.columns)\n",
    "plot_feature_importance(fit = fit_kbest, features = features_kbest)"
   ]
  },
  {
   "cell_type": "markdown",
   "metadata": {},
   "source": [
    "What is notable in this analysis is the fact that age shows a higher significance here than for the previous test.\n",
    "This is due to the fact that age and max_heart_rate are cross-correlated as seen from Pearson's cross correlation test -\n",
    "reported a bit later in this document. The strong correlation between max_heart_rate and ca_disease diminishes the\n",
    "impact of age in multivariate tests. Univariate tests are better suited to this analysis for this reason.\n",
    "\n",
    "Although age does clearly have value as a variable, and in general it is good to include in any healthcare regression\n",
    "analysis due to the insights it brings, we will exclude it based on test results and levels of significance of other\n",
    "variables being much greater and capturing the effect of age sufficiently. We later discuss a strategy for the inclusion\n",
    "of age at a later stage.\n",
    "\n",
    "We will now consider the categorical variables. Again the SelectKBest method will be used again, but this time the\n",
    "Chi-Squared function 'chi2' for categorical variables will be used. Let's see what the results are."
   ]
  },
  {
   "cell_type": "code",
   "execution_count": null,
   "metadata": {},
   "outputs": [],
   "source": [
    "test_cat = SelectKBest(score_func=chi2, k='all')\n",
    "fit_kbest_cat = test_cat.fit(X_train_cat, y_train_cat)\n",
    "features_kbest_cat = np.array(X_cat.columns)\n",
    "plot_feature_importance(fit = fit_kbest_cat, features = features_kbest_cat)"
   ]
  },
  {
   "cell_type": "markdown",
   "metadata": {},
   "source": [
    "num_major_vessels, thal_scint and exer_ind_angina are all extremely strong predictors. chest_pain_type, st_slope and\n",
    "sex also contribute to the overall classification. From this analysis the only non-significant variables are\n",
    "rest_ecg and fasting_blood_sugar.\n",
    "\n",
    "We have now analysed continuous at categorical data separately from a statistical perspective.\n",
    "Before we make the final decision on what variables to drop, we will now consider an ML technique for deriving feature\n",
    "importance i.e. Decision Trees and Random Forests. Unlike the case of regression, we can analyse and draw conclusions\n",
    "on continuous and categorical data together when using these algorithms as they are impervious to differences in\n",
    "variable type. Another nice feature about Trees is that we don't have to standardise and normalise features which\n",
    "makes visual analysis a lot more intuitive. We therefore use our initial untransformed dataset for this analysis."
   ]
  },
  {
   "cell_type": "code",
   "execution_count": null,
   "metadata": {},
   "outputs": [],
   "source": [
    "# Fit a Decision Tree to data - perform cross validation to obtain optimum value for hyperparameter used for pruning.\n",
    "samples = [sample for sample in range(1,30)]\n",
    "validation_scores = []\n",
    "for sample in samples:\n",
    "    classifier1 = DecisionTreeClassifier(random_state=1, min_samples_leaf=sample)\n",
    "    score = cross_val_score(estimator=classifier1, X=X_train_rf, y=y_train_rf, cv=5)\n",
    "    validation_scores.append(score.mean())\n",
    "\n",
    "# Obtain the minimum leaf samples with the highest validation score\n",
    "samples_optimum = samples[validation_scores.index(max(validation_scores))]\n",
    "\n",
    "# Create final classifier\n",
    "classifier2 = DecisionTreeClassifier(random_state=0, min_samples_leaf=samples_optimum)\n",
    "classifier2 = classifier2.fit(X_train_rf, y_train_rf)\n",
    "\n",
    "# Probability scores for test set\n",
    "y_pred_rf = classifier2.predict(X_test_rf)\n",
    "\n",
    "# False positive Rate and true positive rate\n",
    "fpr_roc, tpr_roc, thresholds = roc_curve(y_test_rf, y_pred_rf)\n",
    "plot_roc_curve(fpr = fpr_roc, tpr = tpr_roc)"
   ]
  },
  {
   "cell_type": "code",
   "execution_count": null,
   "metadata": {},
   "outputs": [],
   "source": [
    "cnf_matrix = confusion_matrix(y_pred_rf, y_test_rf)\n",
    "plot_confusion_matrix(cnf_matrix, classes=[0,1], normalize=True)"
   ]
  },
  {
   "cell_type": "code",
   "execution_count": null,
   "metadata": {},
   "outputs": [],
   "source": [
    "importances = np.array(classifier2.feature_importances_)\n",
    "feature_list = np.array(X.columns)\n",
    "plot_feature_importance_dec(fit = importances, features = feature_list)"
   ]
  },
  {
   "cell_type": "code",
   "execution_count": null,
   "metadata": {},
   "outputs": [],
   "source": [
    "# Show the first few levels of the tree\n",
    "_ = export_graphviz(classifier2, out_file='tree.dot',\n",
    "                feature_names = X.columns,\n",
    "                class_names = ['No CAD', 'CAD'],\n",
    "                rounded = True, proportion = True,\n",
    "                label='root',\n",
    "                precision = 2, filled = True);"
   ]
  },
  {
   "cell_type": "code",
   "execution_count": null,
   "metadata": {},
   "outputs": [],
   "source": [
    "_ = call(['dot', '-Tpng', 'tree.dot', '-o', 'tree.png', '-Gdpi=600'])\n",
    "Image(filename = 'tree.png')"
   ]
  },
  {
   "cell_type": "markdown",
   "metadata": {},
   "source": [
    "The model has accuracy below 70% (ROC curve slope flatter than models thus far) and the feature importance results\n",
    "are not very convincing seeing as many values are missing. This model needs a bit more work. Interesting to note\n",
    "that Thallium Scintograpy comes out very strongly even in this sub-optimal model.\n",
    "We will next look at random forests to see if we can improve on the single tree's accuracy."
   ]
  },
  {
   "cell_type": "code",
   "execution_count": null,
   "metadata": {},
   "outputs": [],
   "source": [
    "rand_forest = RandomForestClassifier(max_features=0.25, n_estimators=1000, criterion= 'gini',\n",
    "                                     random_state=0)\n",
    "rand_forest.fit(X_train_rf, y_train_rf)\n",
    "\n",
    "# Probability scores for test set\n",
    "y_pred_rf = rand_forest.predict(X_test_rf)\n",
    "\n",
    "# False positive Rate and true positive rate\n",
    "fpr_roc, tpr_roc, thresholds = roc_curve(y_test_rf, y_pred_rf)\n",
    "plot_roc_curve(fpr = fpr_roc, tpr = tpr_roc)"
   ]
  },
  {
   "cell_type": "code",
   "execution_count": null,
   "metadata": {},
   "outputs": [],
   "source": [
    "cnf_matrix = confusion_matrix(y_pred_rf, y_test_rf)\n",
    "plot_confusion_matrix(cnf_matrix, classes=[0,1], normalize=True)"
   ]
  },
  {
   "cell_type": "code",
   "execution_count": null,
   "metadata": {},
   "outputs": [],
   "source": [
    "importances = np.array(rand_forest.feature_importances_)\n",
    "feature_list = np.array(X.columns)\n",
    "plot_feature_importance_dec(fit = importances, features = feature_list)"
   ]
  },
  {
   "cell_type": "code",
   "execution_count": null,
   "metadata": {},
   "outputs": [],
   "source": [
    "estimator = rand_forest.estimators_[1]\n",
    "\n",
    "# Show the first few levels of the tree\n",
    "_ = export_graphviz(estimator, out_file='tree.dot',\n",
    "                feature_names = X.columns,\n",
    "                class_names = ['No CAD', 'CAD'],\n",
    "                rounded = True, proportion = True,\n",
    "                label='root',\n",
    "                precision = 2, filled = True);"
   ]
  },
  {
   "cell_type": "code",
   "execution_count": null,
   "metadata": {},
   "outputs": [],
   "source": [
    "_ = call(['dot', '-Tpng', 'tree.dot', '-o', 'tree.png', '-Gdpi=600'])\n",
    "Image(filename = 'tree.png')"
   ]
  },
  {
   "cell_type": "markdown",
   "metadata": {},
   "source": [
    "The Random Forest plot is interesting to analyse. Visually one can observe that ca disease (blue nodes) is evenly\n",
    "spread throughout the leave nodes of the entire tree. A large proportion of the early ca disease nodes occur for\n",
    "individuals with maximum heart rate < 150 and cholesterol >210. From here if ST depression >0.8 and one is male around\n",
    "20% of the overall population is classified as having ca disease.\n",
    "Likewise, a large proportion of the population with max heart rate >150 and chest pain < 3.5 is classified as not\n",
    "having ca disease (orange nodes).\n",
    "Another interesting factor is that Thallium Scintography is reported as the second most important feature. It does \n",
    "however not feature strongly in the Decision Tree. It is likely that strong cross-correlation with other strong \n",
    "features such as maximum heart rate causes the Thallium feature to only surface as a confirmatory feature at lower \n",
    "levels in the tree.\n",
    "\n"
   ]
  },
  {
   "cell_type": "markdown",
   "metadata": {},
   "source": [
    "We now build our final Logistic Regression model with the variables selected."
   ]
  },
  {
   "cell_type": "code",
   "execution_count": 16,
   "metadata": {},
   "outputs": [
    {
     "ename": "NameError",
     "evalue": "name 'df_fin_cat' is not defined",
     "output_type": "error",
     "traceback": [
      "\u001B[0;31m---------------------------------------------------------------------------\u001B[0m",
      "\u001B[0;31mNameError\u001B[0m                                 Traceback (most recent call last)",
      "Input \u001B[0;32mIn [16]\u001B[0m, in \u001B[0;36m<module>\u001B[0;34m\u001B[0m\n\u001B[1;32m      1\u001B[0m \u001B[38;5;66;03m# Extract continuous and categorical variables for analysis.\u001B[39;00m\n\u001B[0;32m----> 2\u001B[0m X_fin_cat \u001B[38;5;241m=\u001B[39m \u001B[43mdf_fin_cat\u001B[49m\u001B[38;5;241m.\u001B[39mloc[:,(\u001B[38;5;124m'\u001B[39m\u001B[38;5;124msex\u001B[39m\u001B[38;5;124m'\u001B[39m, \u001B[38;5;124m'\u001B[39m\u001B[38;5;124mchest_pain_type\u001B[39m\u001B[38;5;124m'\u001B[39m, \u001B[38;5;124m'\u001B[39m\u001B[38;5;124mexer_ind_angina\u001B[39m\u001B[38;5;124m'\u001B[39m, \u001B[38;5;124m'\u001B[39m\u001B[38;5;124mst_slope\u001B[39m\u001B[38;5;124m'\u001B[39m, \u001B[38;5;124m'\u001B[39m\u001B[38;5;124mnum_major_vessels\u001B[39m\u001B[38;5;124m'\u001B[39m, \u001B[38;5;124m'\u001B[39m\u001B[38;5;124mthallium_scint\u001B[39m\u001B[38;5;124m'\u001B[39m)]\n\u001B[1;32m      3\u001B[0m X_fin_con \u001B[38;5;241m=\u001B[39m df_fin_con\u001B[38;5;241m.\u001B[39mloc[:,(\u001B[38;5;124m'\u001B[39m\u001B[38;5;124mmax_heart_rate\u001B[39m\u001B[38;5;124m'\u001B[39m, \u001B[38;5;124m'\u001B[39m\u001B[38;5;124mst_depression\u001B[39m\u001B[38;5;124m'\u001B[39m)]\n\u001B[1;32m      4\u001B[0m X_final \u001B[38;5;241m=\u001B[39m pd\u001B[38;5;241m.\u001B[39mconcat([X_fin_cat, X_fin_con], axis\u001B[38;5;241m=\u001B[39m\u001B[38;5;241m1\u001B[39m)\n",
      "\u001B[0;31mNameError\u001B[0m: name 'df_fin_cat' is not defined"
     ]
    }
   ],
   "source": [
    "# Extract continuous and categorical variables for analysis.\n",
    "X_fin_cat = df_fin_cat.loc[:,('sex', 'chest_pain_type', 'exer_ind_angina', 'st_slope', 'num_major_vessels', 'thallium_scint')]\n",
    "X_fin_con = df_fin_con.loc[:,('max_heart_rate', 'st_depression')]\n",
    "X_final = pd.concat([X_fin_cat, X_fin_con], axis=1)\n",
    "\n",
    "X_train_fin, X_test_fin, y_train_fin, y_test_fin = train_test_split(X_final, y, random_state=0)\n",
    "\n",
    "# Scale data\n",
    "scaler = StandardScaler()\n",
    "\n",
    "# Fit on training data set\n",
    "scaler.fit(X_train_fin)\n",
    "X_train_fin = scaler.transform(X_train_fin)\n",
    "\n",
    "# Apply to test data\n",
    "X_test_fin = scaler.transform(X_test_fin)\n",
    "\n",
    "# Final model\n",
    "logfin = LogisticRegression(fit_intercept = False)\n",
    "\n",
    "# Probability scores for test set\n",
    "y_score_fin = logfin.fit(X_train_fin, y_train_fin).decision_function(X_test_fin)\n",
    "\n",
    "# False positive Rate and true positive rate\n",
    "fpr_roc, tpr_roc, thresholds = roc_curve(y_test_fin, y_score_fin)\n",
    "\n",
    "plot_roc_curve(fpr = fpr_roc, tpr = tpr_roc)"
   ]
  },
  {
   "cell_type": "code",
   "execution_count": null,
   "metadata": {},
   "outputs": [],
   "source": [
    "y_pred_fin = logfin.predict(X_test_fin)\n",
    "# Accuracy before model parameter optimisation\n",
    "cnf_matrix = confusion_matrix(y_pred_fin, y_test_fin)\n",
    "plot_confusion_matrix(cnf_matrix, classes=[0,1], normalize=True)"
   ]
  },
  {
   "cell_type": "markdown",
   "metadata": {},
   "source": [
    "The accuracy results indicate that even though 5 variables were dropped, the model accuracy did not reduce by\n",
    "a significant amount. We can therefore confidently deploy this model with the knowledge that it is both robust and\n",
    "accurate.\n"
   ]
  },
  {
   "cell_type": "markdown",
   "metadata": {},
   "source": [
    "<div class=\"alert alert-block alert-info\">\n",
    "<b>Build Model 2 - Multi-Layer Perceptron</b>\n",
    "</div>"
   ]
  },
  {
   "cell_type": "markdown",
   "metadata": {},
   "source": [
    "We can now build a Multi Layer Perceptron to compare with the Logistic Regression."
   ]
  },
  {
   "cell_type": "markdown",
   "metadata": {},
   "source": [
    "MSE before model optimisation"
   ]
  },
  {
   "cell_type": "code",
   "execution_count": null,
   "metadata": {},
   "outputs": [],
   "source": [
    "# Fit and check MSE before regularisation\n",
    "reg = MLPClassifier(max_iter=50000, solver=\"adam\", activation=\"tanh\", hidden_layer_sizes=(5, 5), random_state=1)\n",
    "reg.fit(X_train_fin, y_train_fin)\n",
    "\n",
    "# Predict\n",
    "y_pred_fin = reg.predict(X_test_fin)\n",
    "\n",
    "# Accuracy before model parameter optimisation\n",
    "accuracy_score(y_pred_fin, y_test_fin)"
   ]
  },
  {
   "cell_type": "markdown",
   "metadata": {},
   "source": [
    "We now optimise the NN architecture."
   ]
  },
  {
   "cell_type": "code",
   "execution_count": 17,
   "metadata": {},
   "outputs": [
    {
     "name": "stdout",
     "output_type": "stream",
     "text": [
      "Nodes |Validation\n",
      "      | score\n"
     ]
    },
    {
     "ename": "NameError",
     "evalue": "name 'X_train_fin' is not defined",
     "output_type": "error",
     "traceback": [
      "\u001B[0;31m---------------------------------------------------------------------------\u001B[0m",
      "\u001B[0;31mNameError\u001B[0m                                 Traceback (most recent call last)",
      "Input \u001B[0;32mIn [17]\u001B[0m, in \u001B[0;36m<module>\u001B[0;34m\u001B[0m\n\u001B[1;32m      6\u001B[0m \u001B[38;5;28;01mfor\u001B[39;00m hidden_layer_size \u001B[38;5;129;01min\u001B[39;00m [(i,j) \u001B[38;5;28;01mfor\u001B[39;00m i \u001B[38;5;129;01min\u001B[39;00m \u001B[38;5;28mrange\u001B[39m(\u001B[38;5;241m3\u001B[39m,\u001B[38;5;241m6\u001B[39m) \u001B[38;5;28;01mfor\u001B[39;00m j \u001B[38;5;129;01min\u001B[39;00m \u001B[38;5;28mrange\u001B[39m(\u001B[38;5;241m3\u001B[39m,\u001B[38;5;241m6\u001B[39m)]:\n\u001B[1;32m      8\u001B[0m     reg \u001B[38;5;241m=\u001B[39m MLPClassifier(max_iter\u001B[38;5;241m=\u001B[39m\u001B[38;5;241m1000000\u001B[39m, hidden_layer_sizes\u001B[38;5;241m=\u001B[39mhidden_layer_size, random_state\u001B[38;5;241m=\u001B[39m\u001B[38;5;241m1\u001B[39m)\n\u001B[0;32m---> 10\u001B[0m     score \u001B[38;5;241m=\u001B[39m cross_val_score(estimator\u001B[38;5;241m=\u001B[39mreg, X\u001B[38;5;241m=\u001B[39m\u001B[43mX_train_fin\u001B[49m, y\u001B[38;5;241m=\u001B[39my_train_fin, cv\u001B[38;5;241m=\u001B[39m\u001B[38;5;241m2\u001B[39m)\n\u001B[1;32m     11\u001B[0m     validation_scores[hidden_layer_size] \u001B[38;5;241m=\u001B[39m score\u001B[38;5;241m.\u001B[39mmean()\n\u001B[1;32m     12\u001B[0m     \u001B[38;5;28mprint\u001B[39m(hidden_layer_size, \u001B[38;5;124m\"\u001B[39m\u001B[38;5;124m: \u001B[39m\u001B[38;5;132;01m%0.5f\u001B[39;00m\u001B[38;5;124m\"\u001B[39m \u001B[38;5;241m%\u001B[39m validation_scores[hidden_layer_size])\n",
      "\u001B[0;31mNameError\u001B[0m: name 'X_train_fin' is not defined"
     ]
    }
   ],
   "source": [
    "# Optimise numbers of nodes on both layers\n",
    "validation_scores = {}\n",
    "print(\"Nodes |Validation\")\n",
    "print(\"      | score\")\n",
    "\n",
    "for hidden_layer_size in [(i,j) for i in range(3,6) for j in range(3,6)]:\n",
    "\n",
    "    reg = MLPClassifier(max_iter=1000000, hidden_layer_sizes=hidden_layer_size, random_state=1)\n",
    "\n",
    "    score = cross_val_score(estimator=reg, X=X_train_fin, y=y_train_fin, cv=2)\n",
    "    validation_scores[hidden_layer_size] = score.mean()\n",
    "    print(hidden_layer_size, \": %0.5f\" % validation_scores[hidden_layer_size])"
   ]
  },
  {
   "cell_type": "code",
   "execution_count": null,
   "metadata": {},
   "outputs": [],
   "source": [
    "# Check scores\n",
    "print(\"The highest validation score is: %0.4f\" % max(validation_scores.values()))\n",
    "optimal_hidden_layer_size = [name for name, score in validation_scores.items()\n",
    "                              if score==max(validation_scores.values())][0]\n",
    "print(\"This corresponds to nodes\", optimal_hidden_layer_size )"
   ]
  },
  {
   "cell_type": "markdown",
   "metadata": {},
   "source": [
    "Now we optimise neural network regularisation parameter"
   ]
  },
  {
   "cell_type": "code",
   "execution_count": null,
   "metadata": {},
   "outputs": [],
   "source": [
    "# Select range over which to find regularisation parameter - exponential used for even distribution of values\n",
    "reg_par = [np.e**n for n in np.arange(-2,4,0.5)]\n",
    "\n",
    "validation_scores = {}\n",
    "print(\" alpha  |  Accuracy\")\n",
    "for param in reg_par:\n",
    "    reg = MLPClassifier(max_iter=1000000, solver=\"adam\", activation=\"tanh\", hidden_layer_sizes=optimal_hidden_layer_size, alpha=param,\n",
    "                        random_state=1)\n",
    "    score = cross_val_score(estimator=reg, X=X_train_fin, y=y_train_fin, cv=2, scoring=\"accuracy\")\n",
    "    validation_scores[param] = score.mean()\n",
    "    print(\"%0.5f |  %s\" % (param, score.mean()))\n",
    "\n",
    "# Plot the accuracy function against regularisation parameter\n",
    "plt.plot([np.log(i) for i in validation_scores.keys()], list(validation_scores.values()));\n",
    "plt.xlabel(\"Ln of alpha\");\n",
    "plt.ylabel(\"Accuracy\");"
   ]
  },
  {
   "cell_type": "markdown",
   "metadata": {},
   "source": [
    "The highest cross-validation accuracy score and hence the value to use for the `alpha` parameter is as follows."
   ]
  },
  {
   "cell_type": "code",
   "execution_count": null,
   "metadata": {},
   "outputs": [],
   "source": [
    "max_score = ([np.log(name) for name, score in validation_scores.items() if score==max(validation_scores.values())][0])\n",
    "\n",
    "# Find lowest value.\n",
    "print(\"The highest accuracy score is: %s\" % (max(validation_scores.values())))\n",
    "print(\"This corresponds to regularisation parameter e**%s\" % max_score)"
   ]
  },
  {
   "cell_type": "markdown",
   "metadata": {},
   "source": [
    "MSE after regularisation"
   ]
  },
  {
   "cell_type": "code",
   "execution_count": null,
   "metadata": {},
   "outputs": [],
   "source": [
    "# Fit data with the best parameter\n",
    "reg = MLPClassifier(max_iter=1000000, solver=\"adam\", activation=\"tanh\", hidden_layer_sizes=optimal_hidden_layer_size,\n",
    "                    alpha=np.e**(2), random_state=1)\n",
    "\n",
    "reg.fit(X_train_fin, y_train_fin)\n",
    "\n",
    "# Predict\n",
    "y_pred = reg.predict(X_test_fin)\n",
    "\n",
    "# Accuracy after model parameter optimisation\n",
    "accuracy_score(y_pred_fin, y_test_fin)"
   ]
  },
  {
   "cell_type": "markdown",
   "metadata": {},
   "source": [
    "<div class=\"alert alert-block alert-info\">\n",
    "<b>Analysis of results</b>\n",
    "</div>"
   ]
  },
  {
   "cell_type": "markdown",
   "metadata": {},
   "source": [
    "Plot response curves"
   ]
  },
  {
   "cell_type": "code",
   "execution_count": 18,
   "metadata": {},
   "outputs": [
    {
     "ename": "NameError",
     "evalue": "name 'X_final' is not defined",
     "output_type": "error",
     "traceback": [
      "\u001B[0;31m---------------------------------------------------------------------------\u001B[0m",
      "\u001B[0;31mNameError\u001B[0m                                 Traceback (most recent call last)",
      "Input \u001B[0;32mIn [18]\u001B[0m, in \u001B[0;36m<module>\u001B[0;34m\u001B[0m\n\u001B[1;32m      1\u001B[0m \u001B[38;5;66;03m# Create X_design_vec, which contains the median of each respective column\u001B[39;00m\n\u001B[0;32m----> 2\u001B[0m X_design \u001B[38;5;241m=\u001B[39m \u001B[43mX_final\u001B[49m\u001B[38;5;241m.\u001B[39mcopy()\n\u001B[1;32m      3\u001B[0m X_design_vec \u001B[38;5;241m=\u001B[39m pd\u001B[38;5;241m.\u001B[39mDataFrame(X_design\u001B[38;5;241m.\u001B[39mmedian())\u001B[38;5;241m.\u001B[39mtranspose()\n\u001B[1;32m      4\u001B[0m X_design_vec\u001B[38;5;241m.\u001B[39mhead()\n",
      "\u001B[0;31mNameError\u001B[0m: name 'X_final' is not defined"
     ]
    }
   ],
   "source": [
    "# Create X_design_vec, which contains the median of each respective column\n",
    "X_design = X_final.copy()\n",
    "X_design_vec = pd.DataFrame(X_design.median()).transpose()\n",
    "X_design_vec.head()"
   ]
  },
  {
   "cell_type": "code",
   "execution_count": null,
   "metadata": {},
   "outputs": [],
   "source": [
    "names_num = ('sex', 'chest_pain_type', 'max_heart_rate', 'exer_ind_angina', 'st_depression', 'st_slope', 'num_major_vessels', 'thallium_scint')\n",
    "\n",
    "for variable in names_num:\n",
    "    # Set up a sequence for response variable to plot\n",
    "    min_res = min(X.loc[:,variable])\n",
    "    max_res = max(X.loc[:,variable])\n",
    "    seq = np.linspace(start=min_res,stop=max_res,num=50)\n",
    "\n",
    "    # Set up a list of moving resultants to plot\n",
    "    to_predict = []\n",
    "    for result in seq:\n",
    "        X_design_vec.loc[0,variable] = result\n",
    "        to_predict.append(X_design_vec.copy())\n",
    "\n",
    "    # Convert back to dataframe\n",
    "    to_predict = pd.concat(to_predict)\n",
    "\n",
    "    # Scale and predict\n",
    "    to_predict = scaler.transform(to_predict)\n",
    "    predictions = reg.predict_proba(to_predict)\n",
    "\n",
    "    # Plot\n",
    "    _ = plt.plot(seq,predictions[:,1])\n",
    "    _ = plt.xlabel(variable)\n",
    "    _ = plt.ylabel(\"ca_disease\")\n",
    "    _ = plt.title(\"ca_disease vs \" + variable)\n",
    "    plt.show();"
   ]
  },
  {
   "cell_type": "markdown",
   "metadata": {},
   "source": [
    "Our model is accurate enough to capture the directly proportionate relationship between several response variables\n",
    "(in order of strength of association, based on response curve output):\n",
    "\n",
    "- thallium_scint\n",
    "- num_major_vessels\n",
    "- st_slope\n",
    "- st_depression\n",
    "- exer_ind_angina\n",
    "- chest_pain_type\n",
    "- sex\n",
    "\n",
    "and the inversely proportional relationship between:\n",
    "\n",
    "- max_heart_rate\n",
    "\n",
    "and the outcome of confirmed Coronary Artery Disease. This is a positive outcome, as it means the model as applied\n",
    "to the validation dataset managed to capture the underlying signals in the data. We can therefore conclude that the\n",
    "model generalises well and that its accuracy is sufficiently high for this model to be used based on the features\n",
    "captured.\n",
    "\n",
    "This makes sense if one takes into account that the first two variables:\n",
    "\n",
    "- thallium_scint: Arteries found to be: 1. Normal 2. Reversible defect and 3. Fixed defect\n",
    "- num_major_vessels: Number of major vessels (0-3) coloured by fluoroscopy\n",
    "\n",
    "are by nature close to the definition of Coronary Artery Disease itself."
   ]
  },
  {
   "cell_type": "markdown",
   "metadata": {},
   "source": [
    "Accuracy analysis"
   ]
  },
  {
   "cell_type": "code",
   "execution_count": null,
   "metadata": {},
   "outputs": [],
   "source": [
    "# False positive Rate and true positive rate\n",
    "fpr_roc, tpr_roc, thresholds = roc_curve(y_test, y_pred)\n",
    "plot_roc_curve(fpr = fpr_roc, tpr = tpr_roc)"
   ]
  },
  {
   "cell_type": "code",
   "execution_count": null,
   "metadata": {},
   "outputs": [],
   "source": [
    "cnf_matrix = confusion_matrix(y_pred, y_test)\n",
    "plot_confusion_matrix(cnf_matrix, classes=[0,1], normalize=True)\n",
    "\n"
   ]
  },
  {
   "cell_type": "markdown",
   "metadata": {},
   "source": [
    "<div class=\"alert alert-block alert-info\">\n",
    "<b>Conclusion</b>\n",
    "</div>"
   ]
  },
  {
   "cell_type": "markdown",
   "metadata": {},
   "source": [
    "Given the similar levels of accuracy that both the Logistic and MLP models attained it will be up to clinical decision\n",
    "makers to decide on the utility of these approaches. Given the confidence in the Gold Standard i.e. Angiography and the\n",
    "consequences of incorrect diagnosis, in my mind it is unlikely that a test resulting in a sensitivity of approximately 90% or less will be considered as a replacement.\n",
    "An understanding of the factors contributing to a positive Angiogram test would however assist clinicians in deciding\n",
    "when an Angiogram might be indicated and what the likely outcome would be. This could assist in early intervention,\n",
    "workup and planning. As I understand it there are problems in some settings with too many Angiograms being performed which could result in poorer patient care and outcomes. \n",
    "This analysis identified the 8 most important features to consider which are: thallium_scint, num_major_vessels,\n",
    "st_slope, st_depression, max_heart_rate, exer_ind_angina, chest_pain_type and sex.\n",
    "\n",
    "The Decision Tree provides useful information as a starting point for a discussion on an algorithm to decide whether\n",
    "an Angiogram is indicated for a particular patient. Further analytic work to assist with such a discussion could be to\n",
    "investigate cut-off points for different age/ sex groups or for populations with different prevalence of disease."
   ]
  },
  {
   "cell_type": "code",
   "execution_count": 18,
   "metadata": {},
   "outputs": [],
   "source": []
  }
 ],
 "metadata": {
  "kernelspec": {
   "display_name": "Python 3 (ipykernel)",
   "language": "python",
   "name": "python3"
  },
  "language_info": {
   "codemirror_mode": {
    "name": "ipython",
    "version": 3
   },
   "file_extension": ".py",
   "mimetype": "text/x-python",
   "name": "python",
   "nbconvert_exporter": "python",
   "pygments_lexer": "ipython3",
   "version": "3.9.0"
  }
 },
 "nbformat": 4,
 "nbformat_minor": 1
}
